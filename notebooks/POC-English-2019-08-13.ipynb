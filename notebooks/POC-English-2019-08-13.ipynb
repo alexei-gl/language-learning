{
 "cells": [
  {
   "cell_type": "markdown",
   "metadata": {},
   "source": [
    "# POC-English baseline test `2019-08-13`\n",
    "\n",
    "***[«Re-generate tests (with trees production) for POCE & CDS for all baseline parse&WSD variants»](https://docs.google.com/spreadsheets/d/1TPbtGrqZ7saUHhOIi5yYmQ9c-cvVlAGqY14ATMPVCq4/edit#gid=624274537&range=C138)***  \n",
    "\n",
    "3-level category tree, Link Grammar 5.5.1, `test_grammar` updated 2018-10-19, server `94.130.238.118`  \n",
    "This notebook is shared as static [POC-English-2018-12-31.html](http://langlearn.singularitynet.io/data/clustering_2018/html/POC-English-2018-12-31.html), \n",
    "output data shared via [POC-English-2018-12-31](http://langlearn.singularitynet.io/data/clustering_2018/POC-English-2018-12-31/) directory.  \n",
    "Previous (reference) tests: \n",
    "[POC-English-2018-10-23.html](http://langlearn.singularitynet.io/data/clustering_2018/html/POC-English-2018-10-23.html), \n",
    "[POC-English-Amb-2018-10-21.html](http://langlearn.singularitynet.io/data/clustering_2018/html/POC-English-Amb-2018-10-21.html), \n",
    "[POC-English-Amb-2018-08-09.html](http://langlearn.singularitynet.io/data/clustering_2018/html/POC-English-Amb-2018-08-09.html)"
   ]
  },
  {
   "cell_type": "markdown",
   "metadata": {},
   "source": [
    "## Basic settings"
   ]
  },
  {
   "cell_type": "code",
   "execution_count": 1,
   "metadata": {
    "ExecuteTime": {
     "end_time": "2018-12-31T13:24:59.087583Z",
     "start_time": "2018-12-31T13:24:58.095636Z"
    }
   },
   "outputs": [
    {
     "name": "stdout",
     "output_type": "stream",
     "text": [
      "2019-08-14 03:15:01 UTC :: module_path = /home/alex/PycharmProjects/language-learning\n"
     ]
    }
   ],
   "source": [
    "import os, sys, time\n",
    "module_path = os.path.abspath(os.path.join('..'))\n",
    "if module_path not in sys.path: sys.path.append(module_path)\n",
    "from src.grammar_learner.utl import UTC\n",
    "from src.grammar_learner.read_files import check_dir\n",
    "from src.grammar_learner.write_files import list2file\n",
    "from src.grammar_learner.widgets import html_table\n",
    "from src.grammar_learner.pqa_table import table_rows\n",
    "tmpath = module_path + '/tmp/'\n",
    "check_dir(tmpath, True, 'none')\n",
    "table = []\n",
    "long_table = []\n",
    "start = time.time()\n",
    "print(UTC(), ':: module_path =', module_path)"
   ]
  },
  {
   "cell_type": "markdown",
   "metadata": {},
   "source": [
    "## Grammar Learner corpus-specific parameters"
   ]
  },
  {
   "cell_type": "code",
   "execution_count": 2,
   "metadata": {
    "ExecuteTime": {
     "end_time": "2018-12-31T13:24:59.115982Z",
     "start_time": "2018-12-31T13:24:59.089488Z"
    }
   },
   "outputs": [],
   "source": [
    "corpus = 'POC-English-Amb'\n",
    "out_dir = module_path + '/output/POC-English-' + str(UTC())[:10]\n",
    "runs = (1,1)\n",
    "if runs != (1,1): out_dir += '-multi'\n",
    "kwargs = {\n",
    "    'min_word_count':   1           ,   # SVS (sparse vector space) parameter\n",
    "    'min_link_count':   1           ,   # SVS\n",
    "    'max_words'     :   100000      ,   # SVS: max space dimension 1\n",
    "    'max_features'  :   100000      ,   # SVS: dimension 2: disjuncts/connectors \n",
    "    'min_co-occurrence_count':  1   ,   # SVS\n",
    "    'left_wall'     :   ''          ,\n",
    "    'period'        :   False       ,\n",
    "    'word_space'    :   'vectors'   ,\n",
    "    'clustering'    :   ('kmeans', 'kmeans++', 10),\n",
    "    'cluster_range' :   (2,50,1,5)  ,\n",
    "    'cluster_criteria': 'silhouette',\n",
    "    'clustering_metric': ('silhouette', 'cosine'),\n",
    "    'rules_merge'       :   0.8     , # grammar rules merge threshold\n",
    "    'rules_aggregation' :   0.2     , # grammar rules aggregation threshold\n",
    "    'top_level'         :   0.01    , # top-level rules generalization threshold\n",
    "    'tmpath'        :   tmpath      , \n",
    "    'verbose'       :   'min'       ,\n",
    "    'template_path' :   'poc-turtle',\n",
    "    'linkage_limit' :   1000        ,\n",
    "    'categories_generalization': 'off'}\n",
    "lines = [\n",
    "    [11, 'POC-English-Amb'    , 'MST-fixed-manually'             , 0  , 0 , 'none'  ], \n",
    "    [12, 'POC-English-Amb'    , 'MST-fixed-manually'             , 0  , 0 , 'rules' ], \n",
    "    [13, 'POC-English-Amb'    , 'LG-English'                     , 0  , 0 , 'none'  ], \n",
    "    [14, 'POC-English-Amb'    , 'LG-English'                     , 0  , 0 , 'rules' ], \n",
    "    [15, 'POC-English-Amb'    , 'R=6-Weight=6:R-mst-weight=+1:R' , 0  , 0 , 'none'  ], \n",
    "    [16, 'POC-English-Amb'    , 'R=6-Weight=6:R-mst-weight=+1:R' , 0  , 0 , 'rules' ], \n",
    "    [17, 'POC-English-disAmb' , 'R=6-Weight=6:R-mst-weight=+1:R' , 0  , 0 , 'none'  ], \n",
    "    [18, 'POC-English-disAmb' , 'R=6-Weight=6:R-mst-weight=+1:R' , 0  , 0 , 'rules' ], \n",
    "    [19, 'POC-English-disAmb' , 'R=6-Weight=6:R-mst-weight=+1:R-agm-opt' , 0  , 0 , 'none'  ], \n",
    "    [20, 'POC-English-disAmb' , 'R=6-Weight=6:R-mst-weight=+1:R-agm-opt' , 0  , 0 , 'rules' ], \n",
    "    [21, 'POC-English-disAmb' , 'R=6-Weight=6:R-mst-weight=+1:R-agm-100' , 0  , 0 , 'none'  ], \n",
    "    [22, 'POC-English-disAmb' , 'R=6-Weight=6:R-mst-weight=+1:R-agm-100' , 0  , 0 , 'rules' ], \n",
    "    [23, 'POC-English-Amb'    , 'R=6-Weight=1-mst-weight=+1:R'   , 0  , 0 , 'none'  ], \n",
    "    [24, 'POC-English-disAmb' , 'R=6-Weight=1-mst-weight=+1:R'   , 0  , 0 , 'none'  ], \n",
    "    [25, 'POC-English-disAmb' , 'R=6-Weight=1-mst-weight=+1:R-agm-opt' , 0  , 0 , 'none'  ], \n",
    "    [26, 'POC-English-disAmb' , 'R=6-Weight=1-mst-weight=+1:R-agm-100' , 0  , 0 , 'none'  ], \n",
    "    [27, 'POC-English-Amb'    , 'LG-ANY-all-parses'              , 0  , 0 , 'none'  ], \n",
    "    [28, 'POC-English-disAmb' , 'LG-ANY-all-parses'              , 0  , 0 , 'none'  ], \n",
    "    [29, 'POC-English-disAmb' , 'LG-ANY-all-parses-agm-opt'      , 0  , 0 , 'none'  ], \n",
    "    [30, 'POC-English-disAmb' , 'LG-ANY-all-parses-agm-100'      , 0  , 0 , 'none' ]]\n",
    "rp = module_path + '/data/POC-English-Amb/MST-fixed-manually/poc-english_ex-parses-gold.txt'\n",
    "cp = rp # corpus path = reference path"
   ]
  },
  {
   "cell_type": "markdown",
   "metadata": {},
   "source": [
    "# Baseline: POC-English-Amb, 5 datasets; ...-disAmb, 6 datasets\n",
    "[ULL Project Plan ⇒ Parses ⇒ lines 11-30](https://docs.google.com/spreadsheets/d/1TPbtGrqZ7saUHhOIi5yYmQ9c-cvVlAGqY14ATMPVCq4/edit#gid=963717716&range=L11:P30)"
   ]
  },
  {
   "cell_type": "markdown",
   "metadata": {},
   "source": [
    "## Connectors-DRK-Connectors"
   ]
  },
  {
   "cell_type": "code",
   "execution_count": 3,
   "metadata": {
    "ExecuteTime": {
     "end_time": "2018-12-31T13:29:57.687435Z",
     "start_time": "2018-12-31T13:24:59.117978Z"
    },
    "scrolled": true
   },
   "outputs": [],
   "source": [
    "%%capture\n",
    "kwargs['context'] = 1\n",
    "kwargs['grammar_rules'] = 1\n",
    "kwargs['word_space'] = 'vectors'\n",
    "kwargs['clustering'] = ('kmeans', 'kmeans++', 10)\n",
    "average21, long21, header = table_rows(lines, out_dir, cp, rp, runs, **kwargs)\n",
    "table.extend(average21)\n",
    "long_table.extend(long21)"
   ]
  },
  {
   "cell_type": "code",
   "execution_count": 4,
   "metadata": {
    "ExecuteTime": {
     "end_time": "2018-12-31T13:29:57.696701Z",
     "start_time": "2018-12-31T13:29:57.690013Z"
    }
   },
   "outputs": [
    {
     "data": {
      "text/html": [
       "<table><tr><td>Line</td><td>Corpus</td><td>Parsing</td><td>LW</td><td>RW</td><td>Gen.</td><td>Space</td><td>Rules</td><td>Silhouette</td><td>PA</td><td>PQ</td><td>F1</td></tr><tr><td>11</td><td>POC-English-Amb</td><td>MST-fixed-manually</td><td> --- </td><td> --- </td><td>none</td><td>cDRKc</td><td>29</td><td>0.27</td><td>73%</td><td>64%</td><td>0.76</td></tr><tr><td>13</td><td>POC-English-Amb</td><td>LG-English</td><td> --- </td><td> --- </td><td>none</td><td>cDRKc</td><td>31</td><td>0.28</td><td>72%</td><td>63%</td><td>0.76</td></tr><tr><td>15</td><td>POC-English-Amb</td><td>R=6-Weight=6:R-mst-weight=+1:R</td><td> --- </td><td> --- </td><td>none</td><td>cDRKc</td><td>28</td><td>0.24</td><td>86%</td><td>54%</td><td>0.57</td></tr><tr><td>17</td><td>POC-English-disAmb</td><td>R=6-Weight=6:R-mst-weight=+1:R</td><td> --- </td><td> --- </td><td>none</td><td>cDRKc</td><td>29</td><td>0.25</td><td>73%</td><td>40%</td><td>0.44</td></tr><tr><td>19</td><td>POC-English-disAmb</td><td>R=6-Weight=6:R-mst-weight=+1:R-agm-opt</td><td> --- </td><td> --- </td><td>none</td><td>cDRKc</td><td>27</td><td>0.24</td><td>69%</td><td>39%</td><td>0.46</td></tr><tr><td>21</td><td>POC-English-disAmb</td><td>R=6-Weight=6:R-mst-weight=+1:R-agm-100</td><td> --- </td><td> --- </td><td>none</td><td>cDRKc</td><td>fail</td><td> --- </td><td>0%</td><td>0%</td><td> --- </td></tr><tr><td>23</td><td>POC-English-Amb</td><td>R=6-Weight=1-mst-weight=+1:R</td><td> --- </td><td> --- </td><td>none</td><td>cDRKc</td><td>22</td><td>0.21</td><td>85%</td><td>54%</td><td>0.59</td></tr><tr><td>24</td><td>POC-English-disAmb</td><td>R=6-Weight=1-mst-weight=+1:R</td><td> --- </td><td> --- </td><td>none</td><td>cDRKc</td><td>21</td><td>0.2</td><td>72%</td><td>43%</td><td>0.5</td></tr><tr><td>25</td><td>POC-English-disAmb</td><td>R=6-Weight=1-mst-weight=+1:R-agm-opt</td><td> --- </td><td> --- </td><td>none</td><td>cDRKc</td><td>22</td><td>0.17</td><td>70%</td><td>42%</td><td>0.49</td></tr><tr><td>26</td><td>POC-English-disAmb</td><td>R=6-Weight=1-mst-weight=+1:R-agm-100</td><td> --- </td><td> --- </td><td>none</td><td>cDRKc</td><td>fail</td><td> --- </td><td>0%</td><td>0%</td><td> --- </td></tr><tr><td>27</td><td>POC-English-Amb</td><td>LG-ANY-all-parses</td><td> --- </td><td> --- </td><td>none</td><td>cDRKc</td><td>23</td><td>0.25</td><td>90%</td><td>59%</td><td>0.62</td></tr><tr><td>28</td><td>POC-English-disAmb</td><td>LG-ANY-all-parses</td><td> --- </td><td> --- </td><td>none</td><td>cDRKc</td><td>25</td><td>0.28</td><td>72%</td><td>41%</td><td>0.45</td></tr><tr><td>29</td><td>POC-English-disAmb</td><td>LG-ANY-all-parses-agm-opt</td><td> --- </td><td> --- </td><td>none</td><td>cDRKc</td><td>24</td><td>0.31</td><td>72%</td><td>40%</td><td>0.47</td></tr><tr><td>30</td><td>POC-English-disAmb</td><td>LG-ANY-all-parses-agm-100</td><td> --- </td><td> --- </td><td>none</td><td>cDRKc</td><td>fail</td><td> --- </td><td>0%</td><td>0%</td><td> --- </td></tr></table>"
      ],
      "text/plain": [
       "<IPython.core.display.HTML object>"
      ]
     },
     "metadata": {},
     "output_type": "display_data"
    }
   ],
   "source": [
    "display(html_table([header]+average21))"
   ]
  },
  {
   "cell_type": "markdown",
   "metadata": {},
   "source": [
    "## Connectors-DRK-Disjuncts"
   ]
  },
  {
   "cell_type": "code",
   "execution_count": 5,
   "metadata": {
    "ExecuteTime": {
     "end_time": "2018-12-31T13:36:47.293177Z",
     "start_time": "2018-12-31T13:29:57.698842Z"
    }
   },
   "outputs": [],
   "source": [
    "%%capture\n",
    "kwargs['grammar_rules'] = 2\n",
    "average22, long22, header = table_rows(lines, out_dir, cp, rp, runs, **kwargs)\n",
    "table.extend(average22)\n",
    "long_table.extend(long22)"
   ]
  },
  {
   "cell_type": "code",
   "execution_count": 6,
   "metadata": {
    "ExecuteTime": {
     "end_time": "2018-12-31T13:36:47.298760Z",
     "start_time": "2018-12-31T13:36:47.295138Z"
    },
    "scrolled": true
   },
   "outputs": [
    {
     "data": {
      "text/html": [
       "<table><tr><td>Line</td><td>Corpus</td><td>Parsing</td><td>LW</td><td>RW</td><td>Gen.</td><td>Space</td><td>Rules</td><td>Silhouette</td><td>PA</td><td>PQ</td><td>F1</td></tr><tr><td>11</td><td>POC-English-Amb</td><td>MST-fixed-manually</td><td> --- </td><td> --- </td><td>none</td><td>cDRKd</td><td>30</td><td>0.26</td><td>100%</td><td>99%</td><td>0.99</td></tr><tr><td>12</td><td>POC-English-Amb</td><td>MST-fixed-manually</td><td> --- </td><td> --- </td><td>rules</td><td>cDRKd</td><td>25</td><td>0.26</td><td>100%</td><td>99%</td><td>0.99</td></tr><tr><td>13</td><td>POC-English-Amb</td><td>LG-English</td><td> --- </td><td> --- </td><td>none</td><td>cDRKd</td><td>31</td><td>0.28</td><td>100%</td><td>98%</td><td>0.97</td></tr><tr><td>14</td><td>POC-English-Amb</td><td>LG-English</td><td> --- </td><td> --- </td><td>rules</td><td>cDRKd</td><td>24</td><td>0.28</td><td>100%</td><td>98%</td><td>0.97</td></tr><tr><td>15</td><td>POC-English-Amb</td><td>R=6-Weight=6:R-mst-weight=+1:R</td><td> --- </td><td> --- </td><td>none</td><td>cDRKd</td><td>28</td><td>0.24</td><td>99%</td><td>67%</td><td>0.67</td></tr><tr><td>16</td><td>POC-English-Amb</td><td>R=6-Weight=6:R-mst-weight=+1:R</td><td> --- </td><td> --- </td><td>rules</td><td>cDRKd</td><td>26</td><td>0.24</td><td>100%</td><td>68%</td><td>0.68</td></tr><tr><td>17</td><td>POC-English-disAmb</td><td>R=6-Weight=6:R-mst-weight=+1:R</td><td> --- </td><td> --- </td><td>none</td><td>cDRKd</td><td>29</td><td>0.27</td><td>69%</td><td>41%</td><td>0.45</td></tr><tr><td>18</td><td>POC-English-disAmb</td><td>R=6-Weight=6:R-mst-weight=+1:R</td><td> --- </td><td> --- </td><td>rules</td><td>cDRKd</td><td>27</td><td>0.27</td><td>67%</td><td>40%</td><td>0.46</td></tr><tr><td>19</td><td>POC-English-disAmb</td><td>R=6-Weight=6:R-mst-weight=+1:R-agm-opt</td><td> --- </td><td> --- </td><td>none</td><td>cDRKd</td><td>27</td><td>0.25</td><td>53%</td><td>33%</td><td>0.36</td></tr><tr><td>20</td><td>POC-English-disAmb</td><td>R=6-Weight=6:R-mst-weight=+1:R-agm-opt</td><td> --- </td><td> --- </td><td>rules</td><td>cDRKd</td><td>26</td><td>0.24</td><td>53%</td><td>32%</td><td>0.37</td></tr><tr><td>21</td><td>POC-English-disAmb</td><td>R=6-Weight=6:R-mst-weight=+1:R-agm-100</td><td> --- </td><td> --- </td><td>none</td><td>cDRKd</td><td>fail</td><td> --- </td><td>0%</td><td>0%</td><td> --- </td></tr><tr><td>22</td><td>POC-English-disAmb</td><td>R=6-Weight=6:R-mst-weight=+1:R-agm-100</td><td> --- </td><td> --- </td><td>rules</td><td>cDRKd</td><td>fail</td><td> --- </td><td>0%</td><td>0%</td><td> --- </td></tr><tr><td>23</td><td>POC-English-Amb</td><td>R=6-Weight=1-mst-weight=+1:R</td><td> --- </td><td> --- </td><td>none</td><td>cDRKd</td><td>22</td><td>0.21</td><td>99%</td><td>74%</td><td>0.75</td></tr><tr><td>24</td><td>POC-English-disAmb</td><td>R=6-Weight=1-mst-weight=+1:R</td><td> --- </td><td> --- </td><td>none</td><td>cDRKd</td><td>22</td><td>0.2</td><td>72%</td><td>51%</td><td>0.57</td></tr><tr><td>25</td><td>POC-English-disAmb</td><td>R=6-Weight=1-mst-weight=+1:R-agm-opt</td><td> --- </td><td> --- </td><td>none</td><td>cDRKd</td><td>23</td><td>0.18</td><td>55%</td><td>35%</td><td>0.37</td></tr><tr><td>26</td><td>POC-English-disAmb</td><td>R=6-Weight=1-mst-weight=+1:R-agm-100</td><td> --- </td><td> --- </td><td>none</td><td>cDRKd</td><td>fail</td><td> --- </td><td>0%</td><td>0%</td><td> --- </td></tr><tr><td>27</td><td>POC-English-Amb</td><td>LG-ANY-all-parses</td><td> --- </td><td> --- </td><td>none</td><td>cDRKd</td><td>21</td><td>0.25</td><td>99%</td><td>68%</td><td>0.69</td></tr><tr><td>28</td><td>POC-English-disAmb</td><td>LG-ANY-all-parses</td><td> --- </td><td> --- </td><td>none</td><td>cDRKd</td><td>25</td><td>0.28</td><td>65%</td><td>45%</td><td>0.49</td></tr><tr><td>29</td><td>POC-English-disAmb</td><td>LG-ANY-all-parses-agm-opt</td><td> --- </td><td> --- </td><td>none</td><td>cDRKd</td><td>25</td><td>0.32</td><td>55%</td><td>34%</td><td>0.37</td></tr><tr><td>30</td><td>POC-English-disAmb</td><td>LG-ANY-all-parses-agm-100</td><td> --- </td><td> --- </td><td>none</td><td>cDRKd</td><td>fail</td><td> --- </td><td>0%</td><td>0%</td><td> --- </td></tr></table>"
      ],
      "text/plain": [
       "<IPython.core.display.HTML object>"
      ]
     },
     "metadata": {},
     "output_type": "display_data"
    }
   ],
   "source": [
    "display(html_table([header]+average22))"
   ]
  },
  {
   "cell_type": "markdown",
   "metadata": {},
   "source": [
    "## Disjuncts-DRK-Disjuncts"
   ]
  },
  {
   "cell_type": "code",
   "execution_count": 7,
   "metadata": {
    "ExecuteTime": {
     "end_time": "2018-12-31T13:41:20.175958Z",
     "start_time": "2018-12-31T13:36:47.300775Z"
    }
   },
   "outputs": [],
   "source": [
    "%%capture\n",
    "kwargs['context'] = 2\n",
    "average23, long23, header = table_rows(lines, out_dir, cp, rp, runs, **kwargs)\n",
    "table.extend(average23)\n",
    "long_table.extend(long23)"
   ]
  },
  {
   "cell_type": "code",
   "execution_count": 8,
   "metadata": {
    "ExecuteTime": {
     "end_time": "2018-12-31T13:41:20.181976Z",
     "start_time": "2018-12-31T13:41:20.178212Z"
    }
   },
   "outputs": [
    {
     "data": {
      "text/html": [
       "<table><tr><td>Line</td><td>Corpus</td><td>Parsing</td><td>LW</td><td>RW</td><td>Gen.</td><td>Space</td><td>Rules</td><td>Silhouette</td><td>PA</td><td>PQ</td><td>F1</td></tr><tr><td>11</td><td>POC-English-Amb</td><td>MST-fixed-manually</td><td> --- </td><td> --- </td><td>none</td><td>dDRKd</td><td>30</td><td>0.25</td><td>100%</td><td>99%</td><td>0.99</td></tr><tr><td>12</td><td>POC-English-Amb</td><td>MST-fixed-manually</td><td> --- </td><td> --- </td><td>rules</td><td>dDRKd</td><td>27</td><td>0.25</td><td>100%</td><td>99%</td><td>0.99</td></tr><tr><td>13</td><td>POC-English-Amb</td><td>LG-English</td><td> --- </td><td> --- </td><td>none</td><td>dDRKd</td><td>4</td><td>0.61</td><td>100%</td><td>84%</td><td>0.84</td></tr><tr><td>14</td><td>POC-English-Amb</td><td>LG-English</td><td> --- </td><td> --- </td><td>rules</td><td>dDRKd</td><td>4</td><td>0.61</td><td>100%</td><td>84%</td><td>0.84</td></tr><tr><td>15</td><td>POC-English-Amb</td><td>R=6-Weight=6:R-mst-weight=+1:R</td><td> --- </td><td> --- </td><td>none</td><td>dDRKd</td><td>33</td><td>0.19</td><td>99%</td><td>67%</td><td>0.67</td></tr><tr><td>16</td><td>POC-English-Amb</td><td>R=6-Weight=6:R-mst-weight=+1:R</td><td> --- </td><td> --- </td><td>rules</td><td>dDRKd</td><td>32</td><td>0.19</td><td>100%</td><td>68%</td><td>0.68</td></tr><tr><td>17</td><td>POC-English-disAmb</td><td>R=6-Weight=6:R-mst-weight=+1:R</td><td> --- </td><td> --- </td><td>none</td><td>dDRKd</td><td>25</td><td>0.52</td><td>71%</td><td>45%</td><td>0.5</td></tr><tr><td>18</td><td>POC-English-disAmb</td><td>R=6-Weight=6:R-mst-weight=+1:R</td><td> --- </td><td> --- </td><td>rules</td><td>dDRKd</td><td>24</td><td>0.5</td><td>70%</td><td>43%</td><td>0.49</td></tr><tr><td>19</td><td>POC-English-disAmb</td><td>R=6-Weight=6:R-mst-weight=+1:R-agm-opt</td><td> --- </td><td> --- </td><td>none</td><td>dDRKd</td><td>20</td><td>0.52</td><td>55%</td><td>34%</td><td>0.38</td></tr><tr><td>20</td><td>POC-English-disAmb</td><td>R=6-Weight=6:R-mst-weight=+1:R-agm-opt</td><td> --- </td><td> --- </td><td>rules</td><td>dDRKd</td><td>20</td><td>0.53</td><td>56%</td><td>35%</td><td>0.39</td></tr><tr><td>21</td><td>POC-English-disAmb</td><td>R=6-Weight=6:R-mst-weight=+1:R-agm-100</td><td> --- </td><td> --- </td><td>none</td><td>dDRKd</td><td>fail</td><td> --- </td><td>0%</td><td>0%</td><td> --- </td></tr><tr><td>22</td><td>POC-English-disAmb</td><td>R=6-Weight=6:R-mst-weight=+1:R-agm-100</td><td> --- </td><td> --- </td><td>rules</td><td>dDRKd</td><td>fail</td><td> --- </td><td>0%</td><td>0%</td><td> --- </td></tr><tr><td>23</td><td>POC-English-Amb</td><td>R=6-Weight=1-mst-weight=+1:R</td><td> --- </td><td> --- </td><td>none</td><td>dDRKd</td><td>28</td><td>0.27</td><td>97%</td><td>70%</td><td>0.71</td></tr><tr><td>24</td><td>POC-English-disAmb</td><td>R=6-Weight=1-mst-weight=+1:R</td><td> --- </td><td> --- </td><td>none</td><td>dDRKd</td><td>32</td><td>0.15</td><td>67%</td><td>43%</td><td>0.48</td></tr><tr><td>25</td><td>POC-English-disAmb</td><td>R=6-Weight=1-mst-weight=+1:R-agm-opt</td><td> --- </td><td> --- </td><td>none</td><td>dDRKd</td><td>29</td><td>0.3</td><td>46%</td><td>31%</td><td>0.31</td></tr><tr><td>26</td><td>POC-English-disAmb</td><td>R=6-Weight=1-mst-weight=+1:R-agm-100</td><td> --- </td><td> --- </td><td>none</td><td>dDRKd</td><td>fail</td><td> --- </td><td>0%</td><td>0%</td><td> --- </td></tr><tr><td>27</td><td>POC-English-Amb</td><td>LG-ANY-all-parses</td><td> --- </td><td> --- </td><td>none</td><td>dDRKd</td><td>29</td><td>0.21</td><td>98%</td><td>68%</td><td>0.69</td></tr><tr><td>28</td><td>POC-English-disAmb</td><td>LG-ANY-all-parses</td><td> --- </td><td> --- </td><td>none</td><td>dDRKd</td><td>25</td><td>0.38</td><td>80%</td><td>56%</td><td>0.6</td></tr><tr><td>29</td><td>POC-English-disAmb</td><td>LG-ANY-all-parses-agm-opt</td><td> --- </td><td> --- </td><td>none</td><td>dDRKd</td><td>32</td><td>0.27</td><td>44%</td><td>32%</td><td>0.35</td></tr><tr><td>30</td><td>POC-English-disAmb</td><td>LG-ANY-all-parses-agm-100</td><td> --- </td><td> --- </td><td>none</td><td>dDRKd</td><td>fail</td><td> --- </td><td>0%</td><td>0%</td><td> --- </td></tr></table>"
      ],
      "text/plain": [
       "<IPython.core.display.HTML object>"
      ]
     },
     "metadata": {},
     "output_type": "display_data"
    }
   ],
   "source": [
    "display(html_table([header]+average23))"
   ]
  },
  {
   "cell_type": "markdown",
   "metadata": {},
   "source": [
    "## Disjuncts-ILE-Disjuncts"
   ]
  },
  {
   "cell_type": "code",
   "execution_count": 9,
   "metadata": {
    "ExecuteTime": {
     "end_time": "2018-12-31T13:41:25.359431Z",
     "start_time": "2018-12-31T13:41:20.183581Z"
    }
   },
   "outputs": [],
   "source": [
    "%%capture\n",
    "kwargs['context'] = 2\n",
    "kwargs['word_space'] = 'discrete'\n",
    "kwargs['clustering'] = 'group'\n",
    "kwargs['grammar_rules'] = 2\n",
    "average24, long24, header = table_rows(lines, out_dir, cp, rp, runs, **kwargs)\n",
    "table.extend(average24)\n",
    "long_table.extend(long24)"
   ]
  },
  {
   "cell_type": "code",
   "execution_count": 10,
   "metadata": {
    "ExecuteTime": {
     "end_time": "2018-12-31T13:41:25.368782Z",
     "start_time": "2018-12-31T13:41:25.362933Z"
    }
   },
   "outputs": [
    {
     "data": {
      "text/html": [
       "<table><tr><td>Line</td><td>Corpus</td><td>Parsing</td><td>LW</td><td>RW</td><td>Gen.</td><td>Space</td><td>Rules</td><td>Silhouette</td><td>PA</td><td>PQ</td><td>F1</td></tr><tr><td>11</td><td>POC-English-Amb</td><td>MST-fixed-manually</td><td> --- </td><td> --- </td><td>none</td><td>dILEd</td><td>37</td><td> --- </td><td>100%</td><td>100%</td><td>1.0</td></tr><tr><td>12</td><td>POC-English-Amb</td><td>MST-fixed-manually</td><td> --- </td><td> --- </td><td>rules</td><td>dILEd</td><td>28</td><td> --- </td><td>100%</td><td>99%</td><td>0.99</td></tr><tr><td>13</td><td>POC-English-Amb</td><td>LG-English</td><td> --- </td><td> --- </td><td>none</td><td>dILEd</td><td>37</td><td> --- </td><td>100%</td><td>98%</td><td>0.97</td></tr><tr><td>14</td><td>POC-English-Amb</td><td>LG-English</td><td> --- </td><td> --- </td><td>rules</td><td>dILEd</td><td>30</td><td> --- </td><td>100%</td><td>98%</td><td>0.97</td></tr><tr><td>15</td><td>POC-English-Amb</td><td>R=6-Weight=6:R-mst-weight=+1:R</td><td> --- </td><td> --- </td><td>none</td><td>dILEd</td><td>39</td><td> --- </td><td>98%</td><td>67%</td><td>0.68</td></tr><tr><td>16</td><td>POC-English-Amb</td><td>R=6-Weight=6:R-mst-weight=+1:R</td><td> --- </td><td> --- </td><td>rules</td><td>dILEd</td><td>35</td><td> --- </td><td>99%</td><td>68%</td><td>0.68</td></tr><tr><td>17</td><td>POC-English-disAmb</td><td>R=6-Weight=6:R-mst-weight=+1:R</td><td> --- </td><td> --- </td><td>none</td><td>dILEd</td><td>40</td><td> --- </td><td>64%</td><td>42%</td><td>0.47</td></tr><tr><td>18</td><td>POC-English-disAmb</td><td>R=6-Weight=6:R-mst-weight=+1:R</td><td> --- </td><td> --- </td><td>rules</td><td>dILEd</td><td>36</td><td> --- </td><td>64%</td><td>41%</td><td>0.48</td></tr><tr><td>19</td><td>POC-English-disAmb</td><td>R=6-Weight=6:R-mst-weight=+1:R-agm-opt</td><td> --- </td><td> --- </td><td>none</td><td>dILEd</td><td>42</td><td> --- </td><td>48%</td><td>31%</td><td>0.34</td></tr><tr><td>20</td><td>POC-English-disAmb</td><td>R=6-Weight=6:R-mst-weight=+1:R-agm-opt</td><td> --- </td><td> --- </td><td>rules</td><td>dILEd</td><td>36</td><td> --- </td><td>49%</td><td>31%</td><td>0.35</td></tr><tr><td>21</td><td>POC-English-disAmb</td><td>R=6-Weight=6:R-mst-weight=+1:R-agm-100</td><td> --- </td><td> --- </td><td>none</td><td>dILEd</td><td>fail</td><td> --- </td><td>0%</td><td>0%</td><td> --- </td></tr><tr><td>22</td><td>POC-English-disAmb</td><td>R=6-Weight=6:R-mst-weight=+1:R-agm-100</td><td> --- </td><td> --- </td><td>rules</td><td>dILEd</td><td>fail</td><td> --- </td><td>0%</td><td>0%</td><td> --- </td></tr><tr><td>23</td><td>POC-English-Amb</td><td>R=6-Weight=1-mst-weight=+1:R</td><td> --- </td><td> --- </td><td>none</td><td>dILEd</td><td>40</td><td> --- </td><td>95%</td><td>69%</td><td>0.7</td></tr><tr><td>24</td><td>POC-English-disAmb</td><td>R=6-Weight=1-mst-weight=+1:R</td><td> --- </td><td> --- </td><td>none</td><td>dILEd</td><td>42</td><td> --- </td><td>64%</td><td>42%</td><td>0.45</td></tr><tr><td>25</td><td>POC-English-disAmb</td><td>R=6-Weight=1-mst-weight=+1:R-agm-opt</td><td> --- </td><td> --- </td><td>none</td><td>dILEd</td><td>45</td><td> --- </td><td>44%</td><td>30%</td><td>0.3</td></tr><tr><td>26</td><td>POC-English-disAmb</td><td>R=6-Weight=1-mst-weight=+1:R-agm-100</td><td> --- </td><td> --- </td><td>none</td><td>dILEd</td><td>fail</td><td> --- </td><td>0%</td><td>0%</td><td> --- </td></tr><tr><td>27</td><td>POC-English-Amb</td><td>LG-ANY-all-parses</td><td> --- </td><td> --- </td><td>none</td><td>dILEd</td><td>39</td><td> --- </td><td>97%</td><td>68%</td><td>0.69</td></tr><tr><td>28</td><td>POC-English-disAmb</td><td>LG-ANY-all-parses</td><td> --- </td><td> --- </td><td>none</td><td>dILEd</td><td>40</td><td> --- </td><td>60%</td><td>43%</td><td>0.45</td></tr><tr><td>29</td><td>POC-English-disAmb</td><td>LG-ANY-all-parses-agm-opt</td><td> --- </td><td> --- </td><td>none</td><td>dILEd</td><td>41</td><td> --- </td><td>42%</td><td>30%</td><td>0.32</td></tr><tr><td>30</td><td>POC-English-disAmb</td><td>LG-ANY-all-parses-agm-100</td><td> --- </td><td> --- </td><td>none</td><td>dILEd</td><td>fail</td><td> --- </td><td>0%</td><td>0%</td><td> --- </td></tr></table>"
      ],
      "text/plain": [
       "<IPython.core.display.HTML object>"
      ]
     },
     "metadata": {},
     "output_type": "display_data"
    }
   ],
   "source": [
    "display(html_table([header]+average24))"
   ]
  },
  {
   "cell_type": "markdown",
   "metadata": {},
   "source": [
    "## Disjuncts-ALE-Disjuncts"
   ]
  },
  {
   "cell_type": "code",
   "execution_count": 11,
   "metadata": {
    "ExecuteTime": {
     "end_time": "2018-12-31T13:41:39.241269Z",
     "start_time": "2018-12-31T13:41:25.371526Z"
    }
   },
   "outputs": [],
   "source": [
    "%%capture\n",
    "kwargs['word_space'] = 'sparse'\n",
    "kwargs['cluster_range'] = (2,36,1,1)\n",
    "kwargs['clustering'] = ('agglomerative', 'ward')\n",
    "kwargs['clustering_metric'] = ('silhouette', 'cosine')\n",
    "average25, long25, header = table_rows(lines, out_dir, cp, rp, runs, **kwargs)\n",
    "table.extend(average25)\n",
    "long_table.extend(long25)"
   ]
  },
  {
   "cell_type": "code",
   "execution_count": 12,
   "metadata": {
    "ExecuteTime": {
     "end_time": "2018-12-31T13:41:39.247327Z",
     "start_time": "2018-12-31T13:41:39.243471Z"
    }
   },
   "outputs": [
    {
     "data": {
      "text/html": [
       "<table><tr><td>Line</td><td>Corpus</td><td>Parsing</td><td>LW</td><td>RW</td><td>Gen.</td><td>Space</td><td>Rules</td><td>Silhouette</td><td>PA</td><td>PQ</td><td>F1</td></tr><tr><td>11</td><td>POC-English-Amb</td><td>MST-fixed-manually</td><td> --- </td><td> --- </td><td>none</td><td>dALEd</td><td>21</td><td> --- </td><td>100%</td><td>100%</td><td>1.0</td></tr><tr><td>12</td><td>POC-English-Amb</td><td>MST-fixed-manually</td><td> --- </td><td> --- </td><td>rules</td><td>dALEd</td><td>18</td><td> --- </td><td>100%</td><td>99%</td><td>0.99</td></tr><tr><td>13</td><td>POC-English-Amb</td><td>LG-English</td><td> --- </td><td> --- </td><td>none</td><td>dALEd</td><td>15</td><td> --- </td><td>100%</td><td>95%</td><td>0.95</td></tr><tr><td>14</td><td>POC-English-Amb</td><td>LG-English</td><td> --- </td><td> --- </td><td>rules</td><td>dALEd</td><td>14</td><td> --- </td><td>100%</td><td>95%</td><td>0.95</td></tr><tr><td>15</td><td>POC-English-Amb</td><td>R=6-Weight=6:R-mst-weight=+1:R</td><td> --- </td><td> --- </td><td>none</td><td>dALEd</td><td>21</td><td> --- </td><td>98%</td><td>66%</td><td>0.67</td></tr><tr><td>16</td><td>POC-English-Amb</td><td>R=6-Weight=6:R-mst-weight=+1:R</td><td> --- </td><td> --- </td><td>rules</td><td>dALEd</td><td>20</td><td> --- </td><td>99%</td><td>68%</td><td>0.68</td></tr><tr><td>17</td><td>POC-English-disAmb</td><td>R=6-Weight=6:R-mst-weight=+1:R</td><td> --- </td><td> --- </td><td>none</td><td>dALEd</td><td>16</td><td> --- </td><td>79%</td><td>48%</td><td>0.53</td></tr><tr><td>18</td><td>POC-English-disAmb</td><td>R=6-Weight=6:R-mst-weight=+1:R</td><td> --- </td><td> --- </td><td>rules</td><td>dALEd</td><td>15</td><td> --- </td><td>79%</td><td>47%</td><td>0.53</td></tr><tr><td>19</td><td>POC-English-disAmb</td><td>R=6-Weight=6:R-mst-weight=+1:R-agm-opt</td><td> --- </td><td> --- </td><td>none</td><td>dALEd</td><td>24</td><td> --- </td><td>64%</td><td>40%</td><td>0.45</td></tr><tr><td>20</td><td>POC-English-disAmb</td><td>R=6-Weight=6:R-mst-weight=+1:R-agm-opt</td><td> --- </td><td> --- </td><td>rules</td><td>dALEd</td><td>23</td><td> --- </td><td>65%</td><td>41%</td><td>0.46</td></tr><tr><td>21</td><td>POC-English-disAmb</td><td>R=6-Weight=6:R-mst-weight=+1:R-agm-100</td><td> --- </td><td> --- </td><td>none</td><td>dALEd</td><td>fail</td><td> --- </td><td>0%</td><td>0%</td><td> --- </td></tr><tr><td>22</td><td>POC-English-disAmb</td><td>R=6-Weight=6:R-mst-weight=+1:R-agm-100</td><td> --- </td><td> --- </td><td>rules</td><td>dALEd</td><td>fail</td><td> --- </td><td>0%</td><td>0%</td><td> --- </td></tr><tr><td>23</td><td>POC-English-Amb</td><td>R=6-Weight=1-mst-weight=+1:R</td><td> --- </td><td> --- </td><td>none</td><td>dALEd</td><td>24</td><td> --- </td><td>96%</td><td>70%</td><td>0.7</td></tr><tr><td>24</td><td>POC-English-disAmb</td><td>R=6-Weight=1-mst-weight=+1:R</td><td> --- </td><td> --- </td><td>none</td><td>dALEd</td><td>25</td><td> --- </td><td>75%</td><td>49%</td><td>0.53</td></tr><tr><td>25</td><td>POC-English-disAmb</td><td>R=6-Weight=1-mst-weight=+1:R-agm-opt</td><td> --- </td><td> --- </td><td>none</td><td>dALEd</td><td>25</td><td> --- </td><td>53%</td><td>36%</td><td>0.39</td></tr><tr><td>26</td><td>POC-English-disAmb</td><td>R=6-Weight=1-mst-weight=+1:R-agm-100</td><td> --- </td><td> --- </td><td>none</td><td>dALEd</td><td>fail</td><td> --- </td><td>0%</td><td>0%</td><td> --- </td></tr><tr><td>27</td><td>POC-English-Amb</td><td>LG-ANY-all-parses</td><td> --- </td><td> --- </td><td>none</td><td>dALEd</td><td>22</td><td> --- </td><td>97%</td><td>67%</td><td>0.67</td></tr><tr><td>28</td><td>POC-English-disAmb</td><td>LG-ANY-all-parses</td><td> --- </td><td> --- </td><td>none</td><td>dALEd</td><td>24</td><td> --- </td><td>75%</td><td>53%</td><td>0.57</td></tr><tr><td>29</td><td>POC-English-disAmb</td><td>LG-ANY-all-parses-agm-opt</td><td> --- </td><td> --- </td><td>none</td><td>dALEd</td><td>29</td><td> --- </td><td>50%</td><td>35%</td><td>0.37</td></tr><tr><td>30</td><td>POC-English-disAmb</td><td>LG-ANY-all-parses-agm-100</td><td> --- </td><td> --- </td><td>none</td><td>dALEd</td><td>fail</td><td> --- </td><td>0%</td><td>0%</td><td> --- </td></tr></table>"
      ],
      "text/plain": [
       "<IPython.core.display.HTML object>"
      ]
     },
     "metadata": {},
     "output_type": "display_data"
    }
   ],
   "source": [
    "display(html_table([header]+average25))"
   ]
  },
  {
   "cell_type": "markdown",
   "metadata": {},
   "source": [
    "# All tests ⇒ short_table.txt"
   ]
  },
  {
   "cell_type": "code",
   "execution_count": 13,
   "metadata": {
    "ExecuteTime": {
     "end_time": "2018-12-31T13:41:39.345545Z",
     "start_time": "2018-12-31T13:41:39.248716Z"
    }
   },
   "outputs": [
    {
     "data": {
      "text/html": [
       "<table><tr><td>Line</td><td>Corpus</td><td>Parsing</td><td>LW</td><td>RW</td><td>Gen.</td><td>Space</td><td>Rules</td><td>Silhouette</td><td>PA</td><td>PQ</td><td>F1</td></tr><tr><td>11</td><td>POC-English-Amb</td><td>MST-fixed-manually</td><td> --- </td><td> --- </td><td>none</td><td>cDRKc</td><td> 29 </td><td>0.27</td><td>73%</td><td>64%</td><td>0.76</td></tr><tr><td>13</td><td>POC-English-Amb</td><td>LG-English</td><td> --- </td><td> --- </td><td>none</td><td>cDRKc</td><td> 31 </td><td>0.28</td><td>72%</td><td>63%</td><td>0.76</td></tr><tr><td>15</td><td>POC-English-Amb</td><td>R=6-Weight=6:R-mst-weight=+1:R</td><td> --- </td><td> --- </td><td>none</td><td>cDRKc</td><td> 28 </td><td>0.24</td><td>86%</td><td>54%</td><td>0.57</td></tr><tr><td>17</td><td>POC-English-disAmb</td><td>R=6-Weight=6:R-mst-weight=+1:R</td><td> --- </td><td> --- </td><td>none</td><td>cDRKc</td><td> 29 </td><td>0.25</td><td>73%</td><td>40%</td><td>0.44</td></tr><tr><td>19</td><td>POC-English-disAmb</td><td>R=6-Weight=6:R-mst-weight=+1:R-agm-opt</td><td> --- </td><td> --- </td><td>none</td><td>cDRKc</td><td> 27 </td><td>0.24</td><td>69%</td><td>39%</td><td>0.46</td></tr><tr><td>21</td><td>POC-English-disAmb</td><td>R=6-Weight=6:R-mst-weight=+1:R-agm-100</td><td> --- </td><td> --- </td><td>none</td><td>cDRKc</td><td> fail </td><td> --- </td><td> --- </td><td> --- </td><td> --- </td></tr><tr><td>23</td><td>POC-English-Amb</td><td>R=6-Weight=1-mst-weight=+1:R</td><td> --- </td><td> --- </td><td>none</td><td>cDRKc</td><td> 22 </td><td>0.21</td><td>85%</td><td>54%</td><td>0.59</td></tr><tr><td>24</td><td>POC-English-disAmb</td><td>R=6-Weight=1-mst-weight=+1:R</td><td> --- </td><td> --- </td><td>none</td><td>cDRKc</td><td> 21 </td><td>0.2</td><td>72%</td><td>43%</td><td>0.5</td></tr><tr><td>25</td><td>POC-English-disAmb</td><td>R=6-Weight=1-mst-weight=+1:R-agm-opt</td><td> --- </td><td> --- </td><td>none</td><td>cDRKc</td><td> 22 </td><td>0.17</td><td>70%</td><td>42%</td><td>0.49</td></tr><tr><td>26</td><td>POC-English-disAmb</td><td>R=6-Weight=1-mst-weight=+1:R-agm-100</td><td> --- </td><td> --- </td><td>none</td><td>cDRKc</td><td> fail </td><td> --- </td><td> --- </td><td> --- </td><td> --- </td></tr><tr><td>27</td><td>POC-English-Amb</td><td>LG-ANY-all-parses</td><td> --- </td><td> --- </td><td>none</td><td>cDRKc</td><td> 23 </td><td>0.25</td><td>90%</td><td>59%</td><td>0.62</td></tr><tr><td>28</td><td>POC-English-disAmb</td><td>LG-ANY-all-parses</td><td> --- </td><td> --- </td><td>none</td><td>cDRKc</td><td> 25 </td><td>0.28</td><td>72%</td><td>41%</td><td>0.45</td></tr><tr><td>29</td><td>POC-English-disAmb</td><td>LG-ANY-all-parses-agm-opt</td><td> --- </td><td> --- </td><td>none</td><td>cDRKc</td><td> 24 </td><td>0.31</td><td>72%</td><td>40%</td><td>0.47</td></tr><tr><td>30</td><td>POC-English-disAmb</td><td>LG-ANY-all-parses-agm-100</td><td> --- </td><td> --- </td><td>none</td><td>cDRKc</td><td> fail </td><td> --- </td><td> --- </td><td> --- </td><td> --- </td></tr><tr><td>11</td><td>POC-English-Amb</td><td>MST-fixed-manually</td><td> --- </td><td> --- </td><td>none</td><td>cDRKd</td><td> 30 </td><td>0.26</td><td>100%</td><td>99%</td><td>0.99</td></tr><tr><td>12</td><td>POC-English-Amb</td><td>MST-fixed-manually</td><td> --- </td><td> --- </td><td>rules</td><td>cDRKd</td><td> 25 </td><td>0.26</td><td>100%</td><td>99%</td><td>0.99</td></tr><tr><td>13</td><td>POC-English-Amb</td><td>LG-English</td><td> --- </td><td> --- </td><td>none</td><td>cDRKd</td><td> 31 </td><td>0.28</td><td>100%</td><td>98%</td><td>0.97</td></tr><tr><td>14</td><td>POC-English-Amb</td><td>LG-English</td><td> --- </td><td> --- </td><td>rules</td><td>cDRKd</td><td> 24 </td><td>0.28</td><td>100%</td><td>98%</td><td>0.97</td></tr><tr><td>15</td><td>POC-English-Amb</td><td>R=6-Weight=6:R-mst-weight=+1:R</td><td> --- </td><td> --- </td><td>none</td><td>cDRKd</td><td> 28 </td><td>0.24</td><td>99%</td><td>67%</td><td>0.67</td></tr><tr><td>16</td><td>POC-English-Amb</td><td>R=6-Weight=6:R-mst-weight=+1:R</td><td> --- </td><td> --- </td><td>rules</td><td>cDRKd</td><td> 26 </td><td>0.24</td><td>100%</td><td>68%</td><td>0.68</td></tr><tr><td>17</td><td>POC-English-disAmb</td><td>R=6-Weight=6:R-mst-weight=+1:R</td><td> --- </td><td> --- </td><td>none</td><td>cDRKd</td><td> 29 </td><td>0.27</td><td>69%</td><td>41%</td><td>0.45</td></tr><tr><td>18</td><td>POC-English-disAmb</td><td>R=6-Weight=6:R-mst-weight=+1:R</td><td> --- </td><td> --- </td><td>rules</td><td>cDRKd</td><td> 27 </td><td>0.27</td><td>67%</td><td>40%</td><td>0.46</td></tr><tr><td>19</td><td>POC-English-disAmb</td><td>R=6-Weight=6:R-mst-weight=+1:R-agm-opt</td><td> --- </td><td> --- </td><td>none</td><td>cDRKd</td><td> 27 </td><td>0.25</td><td>53%</td><td>33%</td><td>0.36</td></tr><tr><td>20</td><td>POC-English-disAmb</td><td>R=6-Weight=6:R-mst-weight=+1:R-agm-opt</td><td> --- </td><td> --- </td><td>rules</td><td>cDRKd</td><td> 26 </td><td>0.24</td><td>53%</td><td>32%</td><td>0.37</td></tr><tr><td>21</td><td>POC-English-disAmb</td><td>R=6-Weight=6:R-mst-weight=+1:R-agm-100</td><td> --- </td><td> --- </td><td>none</td><td>cDRKd</td><td> fail </td><td> --- </td><td> --- </td><td> --- </td><td> --- </td></tr><tr><td>22</td><td>POC-English-disAmb</td><td>R=6-Weight=6:R-mst-weight=+1:R-agm-100</td><td> --- </td><td> --- </td><td>rules</td><td>cDRKd</td><td> fail </td><td> --- </td><td> --- </td><td> --- </td><td> --- </td></tr><tr><td>23</td><td>POC-English-Amb</td><td>R=6-Weight=1-mst-weight=+1:R</td><td> --- </td><td> --- </td><td>none</td><td>cDRKd</td><td> 22 </td><td>0.21</td><td>99%</td><td>74%</td><td>0.75</td></tr><tr><td>24</td><td>POC-English-disAmb</td><td>R=6-Weight=1-mst-weight=+1:R</td><td> --- </td><td> --- </td><td>none</td><td>cDRKd</td><td> 22 </td><td>0.2</td><td>72%</td><td>51%</td><td>0.57</td></tr><tr><td>25</td><td>POC-English-disAmb</td><td>R=6-Weight=1-mst-weight=+1:R-agm-opt</td><td> --- </td><td> --- </td><td>none</td><td>cDRKd</td><td> 23 </td><td>0.18</td><td>55%</td><td>35%</td><td>0.37</td></tr><tr><td>26</td><td>POC-English-disAmb</td><td>R=6-Weight=1-mst-weight=+1:R-agm-100</td><td> --- </td><td> --- </td><td>none</td><td>cDRKd</td><td> fail </td><td> --- </td><td> --- </td><td> --- </td><td> --- </td></tr><tr><td>27</td><td>POC-English-Amb</td><td>LG-ANY-all-parses</td><td> --- </td><td> --- </td><td>none</td><td>cDRKd</td><td> 21 </td><td>0.25</td><td>99%</td><td>68%</td><td>0.69</td></tr><tr><td>28</td><td>POC-English-disAmb</td><td>LG-ANY-all-parses</td><td> --- </td><td> --- </td><td>none</td><td>cDRKd</td><td> 25 </td><td>0.28</td><td>65%</td><td>45%</td><td>0.49</td></tr><tr><td>29</td><td>POC-English-disAmb</td><td>LG-ANY-all-parses-agm-opt</td><td> --- </td><td> --- </td><td>none</td><td>cDRKd</td><td> 25 </td><td>0.32</td><td>55%</td><td>34%</td><td>0.37</td></tr><tr><td>30</td><td>POC-English-disAmb</td><td>LG-ANY-all-parses-agm-100</td><td> --- </td><td> --- </td><td>none</td><td>cDRKd</td><td> fail </td><td> --- </td><td> --- </td><td> --- </td><td> --- </td></tr><tr><td>11</td><td>POC-English-Amb</td><td>MST-fixed-manually</td><td> --- </td><td> --- </td><td>none</td><td>dDRKd</td><td> 30 </td><td>0.25</td><td>100%</td><td>99%</td><td>0.99</td></tr><tr><td>12</td><td>POC-English-Amb</td><td>MST-fixed-manually</td><td> --- </td><td> --- </td><td>rules</td><td>dDRKd</td><td> 27 </td><td>0.25</td><td>100%</td><td>99%</td><td>0.99</td></tr><tr><td>13</td><td>POC-English-Amb</td><td>LG-English</td><td> --- </td><td> --- </td><td>none</td><td>dDRKd</td><td> 4 </td><td>0.61</td><td>100%</td><td>84%</td><td>0.84</td></tr><tr><td>14</td><td>POC-English-Amb</td><td>LG-English</td><td> --- </td><td> --- </td><td>rules</td><td>dDRKd</td><td> 4 </td><td>0.61</td><td>100%</td><td>84%</td><td>0.84</td></tr><tr><td>15</td><td>POC-English-Amb</td><td>R=6-Weight=6:R-mst-weight=+1:R</td><td> --- </td><td> --- </td><td>none</td><td>dDRKd</td><td> 33 </td><td>0.19</td><td>99%</td><td>67%</td><td>0.67</td></tr><tr><td>16</td><td>POC-English-Amb</td><td>R=6-Weight=6:R-mst-weight=+1:R</td><td> --- </td><td> --- </td><td>rules</td><td>dDRKd</td><td> 32 </td><td>0.19</td><td>100%</td><td>68%</td><td>0.68</td></tr><tr><td>17</td><td>POC-English-disAmb</td><td>R=6-Weight=6:R-mst-weight=+1:R</td><td> --- </td><td> --- </td><td>none</td><td>dDRKd</td><td> 25 </td><td>0.52</td><td>71%</td><td>45%</td><td>0.5</td></tr><tr><td>18</td><td>POC-English-disAmb</td><td>R=6-Weight=6:R-mst-weight=+1:R</td><td> --- </td><td> --- </td><td>rules</td><td>dDRKd</td><td> 24 </td><td>0.5</td><td>70%</td><td>43%</td><td>0.49</td></tr><tr><td>19</td><td>POC-English-disAmb</td><td>R=6-Weight=6:R-mst-weight=+1:R-agm-opt</td><td> --- </td><td> --- </td><td>none</td><td>dDRKd</td><td> 20 </td><td>0.52</td><td>55%</td><td>34%</td><td>0.38</td></tr><tr><td>20</td><td>POC-English-disAmb</td><td>R=6-Weight=6:R-mst-weight=+1:R-agm-opt</td><td> --- </td><td> --- </td><td>rules</td><td>dDRKd</td><td> 20 </td><td>0.53</td><td>56%</td><td>35%</td><td>0.39</td></tr><tr><td>21</td><td>POC-English-disAmb</td><td>R=6-Weight=6:R-mst-weight=+1:R-agm-100</td><td> --- </td><td> --- </td><td>none</td><td>dDRKd</td><td> fail </td><td> --- </td><td> --- </td><td> --- </td><td> --- </td></tr><tr><td>22</td><td>POC-English-disAmb</td><td>R=6-Weight=6:R-mst-weight=+1:R-agm-100</td><td> --- </td><td> --- </td><td>rules</td><td>dDRKd</td><td> fail </td><td> --- </td><td> --- </td><td> --- </td><td> --- </td></tr><tr><td>23</td><td>POC-English-Amb</td><td>R=6-Weight=1-mst-weight=+1:R</td><td> --- </td><td> --- </td><td>none</td><td>dDRKd</td><td> 28 </td><td>0.27</td><td>97%</td><td>70%</td><td>0.71</td></tr><tr><td>24</td><td>POC-English-disAmb</td><td>R=6-Weight=1-mst-weight=+1:R</td><td> --- </td><td> --- </td><td>none</td><td>dDRKd</td><td> 32 </td><td>0.15</td><td>67%</td><td>43%</td><td>0.48</td></tr><tr><td>25</td><td>POC-English-disAmb</td><td>R=6-Weight=1-mst-weight=+1:R-agm-opt</td><td> --- </td><td> --- </td><td>none</td><td>dDRKd</td><td> 29 </td><td>0.3</td><td>46%</td><td>31%</td><td>0.31</td></tr><tr><td>26</td><td>POC-English-disAmb</td><td>R=6-Weight=1-mst-weight=+1:R-agm-100</td><td> --- </td><td> --- </td><td>none</td><td>dDRKd</td><td> fail </td><td> --- </td><td> --- </td><td> --- </td><td> --- </td></tr><tr><td>27</td><td>POC-English-Amb</td><td>LG-ANY-all-parses</td><td> --- </td><td> --- </td><td>none</td><td>dDRKd</td><td> 29 </td><td>0.21</td><td>98%</td><td>68%</td><td>0.69</td></tr><tr><td>28</td><td>POC-English-disAmb</td><td>LG-ANY-all-parses</td><td> --- </td><td> --- </td><td>none</td><td>dDRKd</td><td> 25 </td><td>0.38</td><td>80%</td><td>56%</td><td>0.6</td></tr><tr><td>29</td><td>POC-English-disAmb</td><td>LG-ANY-all-parses-agm-opt</td><td> --- </td><td> --- </td><td>none</td><td>dDRKd</td><td> 32 </td><td>0.27</td><td>44%</td><td>32%</td><td>0.35</td></tr><tr><td>30</td><td>POC-English-disAmb</td><td>LG-ANY-all-parses-agm-100</td><td> --- </td><td> --- </td><td>none</td><td>dDRKd</td><td> fail </td><td> --- </td><td> --- </td><td> --- </td><td> --- </td></tr><tr><td>11</td><td>POC-English-Amb</td><td>MST-fixed-manually</td><td> --- </td><td> --- </td><td>none</td><td>dILEd</td><td> 37 </td><td> --- </td><td>100%</td><td>100%</td><td>1.0</td></tr><tr><td>12</td><td>POC-English-Amb</td><td>MST-fixed-manually</td><td> --- </td><td> --- </td><td>rules</td><td>dILEd</td><td> 28 </td><td> --- </td><td>100%</td><td>99%</td><td>0.99</td></tr><tr><td>13</td><td>POC-English-Amb</td><td>LG-English</td><td> --- </td><td> --- </td><td>none</td><td>dILEd</td><td> 37 </td><td> --- </td><td>100%</td><td>98%</td><td>0.97</td></tr><tr><td>14</td><td>POC-English-Amb</td><td>LG-English</td><td> --- </td><td> --- </td><td>rules</td><td>dILEd</td><td> 30 </td><td> --- </td><td>100%</td><td>98%</td><td>0.97</td></tr><tr><td>15</td><td>POC-English-Amb</td><td>R=6-Weight=6:R-mst-weight=+1:R</td><td> --- </td><td> --- </td><td>none</td><td>dILEd</td><td> 39 </td><td> --- </td><td>98%</td><td>67%</td><td>0.68</td></tr><tr><td>16</td><td>POC-English-Amb</td><td>R=6-Weight=6:R-mst-weight=+1:R</td><td> --- </td><td> --- </td><td>rules</td><td>dILEd</td><td> 35 </td><td> --- </td><td>99%</td><td>68%</td><td>0.68</td></tr><tr><td>17</td><td>POC-English-disAmb</td><td>R=6-Weight=6:R-mst-weight=+1:R</td><td> --- </td><td> --- </td><td>none</td><td>dILEd</td><td> 40 </td><td> --- </td><td>64%</td><td>42%</td><td>0.47</td></tr><tr><td>18</td><td>POC-English-disAmb</td><td>R=6-Weight=6:R-mst-weight=+1:R</td><td> --- </td><td> --- </td><td>rules</td><td>dILEd</td><td> 36 </td><td> --- </td><td>64%</td><td>41%</td><td>0.48</td></tr><tr><td>19</td><td>POC-English-disAmb</td><td>R=6-Weight=6:R-mst-weight=+1:R-agm-opt</td><td> --- </td><td> --- </td><td>none</td><td>dILEd</td><td> 42 </td><td> --- </td><td>48%</td><td>31%</td><td>0.34</td></tr><tr><td>20</td><td>POC-English-disAmb</td><td>R=6-Weight=6:R-mst-weight=+1:R-agm-opt</td><td> --- </td><td> --- </td><td>rules</td><td>dILEd</td><td> 36 </td><td> --- </td><td>49%</td><td>31%</td><td>0.35</td></tr><tr><td>21</td><td>POC-English-disAmb</td><td>R=6-Weight=6:R-mst-weight=+1:R-agm-100</td><td> --- </td><td> --- </td><td>none</td><td>dILEd</td><td> fail </td><td> --- </td><td> --- </td><td> --- </td><td> --- </td></tr><tr><td>22</td><td>POC-English-disAmb</td><td>R=6-Weight=6:R-mst-weight=+1:R-agm-100</td><td> --- </td><td> --- </td><td>rules</td><td>dILEd</td><td> fail </td><td> --- </td><td> --- </td><td> --- </td><td> --- </td></tr><tr><td>23</td><td>POC-English-Amb</td><td>R=6-Weight=1-mst-weight=+1:R</td><td> --- </td><td> --- </td><td>none</td><td>dILEd</td><td> 40 </td><td> --- </td><td>95%</td><td>69%</td><td>0.7</td></tr><tr><td>24</td><td>POC-English-disAmb</td><td>R=6-Weight=1-mst-weight=+1:R</td><td> --- </td><td> --- </td><td>none</td><td>dILEd</td><td> 42 </td><td> --- </td><td>64%</td><td>42%</td><td>0.45</td></tr><tr><td>25</td><td>POC-English-disAmb</td><td>R=6-Weight=1-mst-weight=+1:R-agm-opt</td><td> --- </td><td> --- </td><td>none</td><td>dILEd</td><td> 45 </td><td> --- </td><td>44%</td><td>30%</td><td>0.3</td></tr><tr><td>26</td><td>POC-English-disAmb</td><td>R=6-Weight=1-mst-weight=+1:R-agm-100</td><td> --- </td><td> --- </td><td>none</td><td>dILEd</td><td> fail </td><td> --- </td><td> --- </td><td> --- </td><td> --- </td></tr><tr><td>27</td><td>POC-English-Amb</td><td>LG-ANY-all-parses</td><td> --- </td><td> --- </td><td>none</td><td>dILEd</td><td> 39 </td><td> --- </td><td>97%</td><td>68%</td><td>0.69</td></tr><tr><td>28</td><td>POC-English-disAmb</td><td>LG-ANY-all-parses</td><td> --- </td><td> --- </td><td>none</td><td>dILEd</td><td> 40 </td><td> --- </td><td>60%</td><td>43%</td><td>0.45</td></tr><tr><td>29</td><td>POC-English-disAmb</td><td>LG-ANY-all-parses-agm-opt</td><td> --- </td><td> --- </td><td>none</td><td>dILEd</td><td> 41 </td><td> --- </td><td>42%</td><td>30%</td><td>0.32</td></tr><tr><td>30</td><td>POC-English-disAmb</td><td>LG-ANY-all-parses-agm-100</td><td> --- </td><td> --- </td><td>none</td><td>dILEd</td><td> fail </td><td> --- </td><td> --- </td><td> --- </td><td> --- </td></tr><tr><td>11</td><td>POC-English-Amb</td><td>MST-fixed-manually</td><td> --- </td><td> --- </td><td>none</td><td>dALEd</td><td> 21 </td><td> --- </td><td>100%</td><td>100%</td><td>1.0</td></tr><tr><td>12</td><td>POC-English-Amb</td><td>MST-fixed-manually</td><td> --- </td><td> --- </td><td>rules</td><td>dALEd</td><td> 18 </td><td> --- </td><td>100%</td><td>99%</td><td>0.99</td></tr><tr><td>13</td><td>POC-English-Amb</td><td>LG-English</td><td> --- </td><td> --- </td><td>none</td><td>dALEd</td><td> 15 </td><td> --- </td><td>100%</td><td>95%</td><td>0.95</td></tr><tr><td>14</td><td>POC-English-Amb</td><td>LG-English</td><td> --- </td><td> --- </td><td>rules</td><td>dALEd</td><td> 14 </td><td> --- </td><td>100%</td><td>95%</td><td>0.95</td></tr><tr><td>15</td><td>POC-English-Amb</td><td>R=6-Weight=6:R-mst-weight=+1:R</td><td> --- </td><td> --- </td><td>none</td><td>dALEd</td><td> 21 </td><td> --- </td><td>98%</td><td>66%</td><td>0.67</td></tr><tr><td>16</td><td>POC-English-Amb</td><td>R=6-Weight=6:R-mst-weight=+1:R</td><td> --- </td><td> --- </td><td>rules</td><td>dALEd</td><td> 20 </td><td> --- </td><td>99%</td><td>68%</td><td>0.68</td></tr><tr><td>17</td><td>POC-English-disAmb</td><td>R=6-Weight=6:R-mst-weight=+1:R</td><td> --- </td><td> --- </td><td>none</td><td>dALEd</td><td> 16 </td><td> --- </td><td>79%</td><td>48%</td><td>0.53</td></tr><tr><td>18</td><td>POC-English-disAmb</td><td>R=6-Weight=6:R-mst-weight=+1:R</td><td> --- </td><td> --- </td><td>rules</td><td>dALEd</td><td> 15 </td><td> --- </td><td>79%</td><td>47%</td><td>0.53</td></tr><tr><td>19</td><td>POC-English-disAmb</td><td>R=6-Weight=6:R-mst-weight=+1:R-agm-opt</td><td> --- </td><td> --- </td><td>none</td><td>dALEd</td><td> 24 </td><td> --- </td><td>64%</td><td>40%</td><td>0.45</td></tr><tr><td>20</td><td>POC-English-disAmb</td><td>R=6-Weight=6:R-mst-weight=+1:R-agm-opt</td><td> --- </td><td> --- </td><td>rules</td><td>dALEd</td><td> 23 </td><td> --- </td><td>65%</td><td>41%</td><td>0.46</td></tr><tr><td>21</td><td>POC-English-disAmb</td><td>R=6-Weight=6:R-mst-weight=+1:R-agm-100</td><td> --- </td><td> --- </td><td>none</td><td>dALEd</td><td> fail </td><td> --- </td><td> --- </td><td> --- </td><td> --- </td></tr><tr><td>22</td><td>POC-English-disAmb</td><td>R=6-Weight=6:R-mst-weight=+1:R-agm-100</td><td> --- </td><td> --- </td><td>rules</td><td>dALEd</td><td> fail </td><td> --- </td><td> --- </td><td> --- </td><td> --- </td></tr><tr><td>23</td><td>POC-English-Amb</td><td>R=6-Weight=1-mst-weight=+1:R</td><td> --- </td><td> --- </td><td>none</td><td>dALEd</td><td> 24 </td><td> --- </td><td>96%</td><td>70%</td><td>0.7</td></tr><tr><td>24</td><td>POC-English-disAmb</td><td>R=6-Weight=1-mst-weight=+1:R</td><td> --- </td><td> --- </td><td>none</td><td>dALEd</td><td> 25 </td><td> --- </td><td>75%</td><td>49%</td><td>0.53</td></tr><tr><td>25</td><td>POC-English-disAmb</td><td>R=6-Weight=1-mst-weight=+1:R-agm-opt</td><td> --- </td><td> --- </td><td>none</td><td>dALEd</td><td> 25 </td><td> --- </td><td>53%</td><td>36%</td><td>0.39</td></tr><tr><td>26</td><td>POC-English-disAmb</td><td>R=6-Weight=1-mst-weight=+1:R-agm-100</td><td> --- </td><td> --- </td><td>none</td><td>dALEd</td><td> fail </td><td> --- </td><td> --- </td><td> --- </td><td> --- </td></tr><tr><td>27</td><td>POC-English-Amb</td><td>LG-ANY-all-parses</td><td> --- </td><td> --- </td><td>none</td><td>dALEd</td><td> 22 </td><td> --- </td><td>97%</td><td>67%</td><td>0.67</td></tr><tr><td>28</td><td>POC-English-disAmb</td><td>LG-ANY-all-parses</td><td> --- </td><td> --- </td><td>none</td><td>dALEd</td><td> 24 </td><td> --- </td><td>75%</td><td>53%</td><td>0.57</td></tr><tr><td>29</td><td>POC-English-disAmb</td><td>LG-ANY-all-parses-agm-opt</td><td> --- </td><td> --- </td><td>none</td><td>dALEd</td><td> 29 </td><td> --- </td><td>50%</td><td>35%</td><td>0.37</td></tr><tr><td>30</td><td>POC-English-disAmb</td><td>LG-ANY-all-parses-agm-100</td><td> --- </td><td> --- </td><td>none</td><td>dALEd</td><td> fail </td><td> --- </td><td> --- </td><td> --- </td><td> --- </td></tr></table>"
      ],
      "text/plain": [
       "<IPython.core.display.HTML object>"
      ]
     },
     "metadata": {},
     "output_type": "display_data"
    }
   ],
   "source": [
    "display(html_table([header]+long_table))"
   ]
  },
  {
   "cell_type": "code",
   "execution_count": 14,
   "metadata": {
    "ExecuteTime": {
     "end_time": "2018-12-31T13:41:39.415008Z",
     "start_time": "2018-12-31T13:41:39.348964Z"
    }
   },
   "outputs": [
    {
     "name": "stdout",
     "output_type": "stream",
     "text": [
      "2019-08-14 03:23:28 UTC :: finished, elapsed 0.1 hours\n",
      "Results saved to /home/alex/PycharmProjects/language-learning/output/POC-English-2019-08-14/short_table.txt\n"
     ]
    }
   ],
   "source": [
    "print(UTC(), ':: finished, elapsed', str(round((time.time()-start)/3600, 1)), 'hours')\n",
    "table_str = list2file(table, out_dir+'/short_table.txt')\n",
    "if runs == (1,1):\n",
    "    print('Results saved to', out_dir + '/short_table.txt')\n",
    "else:\n",
    "    long_table_str = list2file(long_table, out_dir+'/long_table.txt')\n",
    "    print('Average results saved to', out_dir + '/short_table.txt\\n'\n",
    "          'Detailed results for every run saved to', out_dir + '/long_table.txt')"
   ]
  },
  {
   "cell_type": "code",
   "execution_count": null,
   "metadata": {},
   "outputs": [],
   "source": []
  },
  {
   "cell_type": "code",
   "execution_count": null,
   "metadata": {},
   "outputs": [],
   "source": []
  }
 ],
 "metadata": {
  "anaconda-cloud": {},
  "kernelspec": {
   "display_name": "Python 3",
   "language": "python",
   "name": "python3"
  },
  "language_info": {
   "codemirror_mode": {
    "name": "ipython",
    "version": 3
   },
   "file_extension": ".py",
   "mimetype": "text/x-python",
   "name": "python",
   "nbconvert_exporter": "python",
   "pygments_lexer": "ipython3",
   "version": "3.7.4"
  },
  "toc": {
   "base_numbering": 1,
   "nav_menu": {},
   "number_sections": true,
   "sideBar": true,
   "skip_h1_title": false,
   "title_cell": "Table of Contents",
   "title_sidebar": "Contents",
   "toc_cell": false,
   "toc_position": {},
   "toc_section_display": true,
   "toc_window_display": false
  }
 },
 "nbformat": 4,
 "nbformat_minor": 2
}
