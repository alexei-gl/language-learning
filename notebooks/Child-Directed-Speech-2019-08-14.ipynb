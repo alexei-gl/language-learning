{
 "cells": [
  {
   "cell_type": "markdown",
   "metadata": {},
   "source": [
    "# Child Directed Speech test `2019-08-14`\n",
    "\n",
    "[***«Re-generate tests (with trees production) for POCE & CDS for all baseline parse&WSD variants»***](https://docs.google.com/spreadsheets/d/1TPbtGrqZ7saUHhOIi5yYmQ9c-cvVlAGqY14ATMPVCq4/edit#gid=624274537&range=C138)\n",
    "\n",
    "Link Grammar 5.6.2, `test_grammar` updated 2018-10-19 , server `94.130.238.118`  \n",
    "This notebook is shared as static [Child-Directed-Speech-2019-01-03.html](http://langlearn.singularitynet.io/data/clustering_2019/html/Child-Directed-Speech-2019-01-03.html).  \n",
    "The \"All tests\" table is shared as '[short_table.txt](http://langlearn.singularitynet.io/data/clustering_2019/Child-Directed-Speech-2019-01-03/short_table.txt)' in the [Child-Directed-Speech-2019-01-03](http://langlearn.singularitynet.io/data/clustering_2019/Child-Directed-Speech-2019-01-03/) directory.  \n",
    "Previous tests: \n",
    "[Child-Directed-Speech-2018-12-05.html](http://langlearn.singularitynet.io/data/clustering_2018/html/Child-Directed-Speech-2018-12-05.html), \n",
    "[Child-Directed-Speech-2018-10-24.html](http://langlearn.singularitynet.io/data/clustering_2018/html/Child-Directed-Speech-2018-10-24.html),  \n",
    "[Child-Directed-Speech-2018-10-19.html](http://langlearn.singularitynet.io/data/clustering_2018/html/Child-Directed-Speech-2018-10-19.html), \n",
    "[Child-Directed-Speech-2018-08-14.html](http://langlearn.singularitynet.io/data/clustering_2018/html/Child-Directed-Speech-2018-08-14.html), \n",
    "[Child-Directed-Speech-2018-08-06.html](http://langlearn.singularitynet.io/data/clustering_2018/html/Child-Directed-Speech-2018-08-06.html).  "
   ]
  },
  {
   "cell_type": "markdown",
   "metadata": {},
   "source": [
    "## Basic settings"
   ]
  },
  {
   "cell_type": "code",
   "execution_count": 1,
   "metadata": {
    "ExecuteTime": {
     "end_time": "2019-01-03T08:40:31.792729Z",
     "start_time": "2019-01-03T08:40:30.980622Z"
    },
    "scrolled": true
   },
   "outputs": [
    {
     "name": "stdout",
     "output_type": "stream",
     "text": [
      "2019-08-14 03:57:36 UTC :: out_dir:\n",
      " /home/alex/PycharmProjects/language-learning/output/Child-Directed-Speech-2019-08-14\n"
     ]
    }
   ],
   "source": [
    "import os, sys, time\n",
    "module_path = os.path.abspath(os.path.join('..'))\n",
    "if module_path not in sys.path: sys.path.append(module_path)\n",
    "from src.grammar_learner.utl import UTC\n",
    "from src.grammar_learner.read_files import check_dir\n",
    "from src.grammar_learner.write_files import list2file\n",
    "from src.grammar_learner.widgets import html_table\n",
    "from src.grammar_learner.pqa_table import table_rows, wide_rows\n",
    "tmpath = module_path + '/tmp/'\n",
    "check_dir(tmpath, True, 'none')\n",
    "table = []\n",
    "long_table = []\n",
    "start = time.time()\n",
    "out_dir = module_path + '/output/Child-Directed-Speech-' + str(UTC())[:10]\n",
    "print(UTC(), ':: out_dir:\\n', out_dir)\n",
    "runs = (1,1)"
   ]
  },
  {
   "cell_type": "markdown",
   "metadata": {},
   "source": [
    "## Corpus test settings"
   ]
  },
  {
   "cell_type": "code",
   "execution_count": 2,
   "metadata": {
    "ExecuteTime": {
     "end_time": "2019-01-03T08:40:31.808197Z",
     "start_time": "2019-01-03T08:40:31.795604Z"
    }
   },
   "outputs": [],
   "source": [
    "kwargs = {\n",
    "    'left_wall'     :   ''          ,\n",
    "    'period'        :   False       ,\n",
    "    'min_word_count':           1   ,\n",
    "    'min_link_count':           1   ,\n",
    "    'min_co-occurrence_count':  1   ,\n",
    "    'word_space'    :   'vectors'   ,\n",
    "    'clustering'    :   ['kmeans', 'kmeans++', 10],\n",
    "    'cluster_range' :   [30,120,3,3],\n",
    "    'cluster_criteria'  : 'silhouette',\n",
    "    'clustering_metric' : ['silhouette', 'cosine'],\n",
    "    'cluster_level' :   1           ,\n",
    "    'rules_merge'       :   0.8     , # grammar rules merge threshold\n",
    "    'rules_aggregation' :   0.1     , # grammar rules aggregation threshold\n",
    "    'top_level'         :   0.01    , # top-level rules generalization threshold\n",
    "    'tmpath'        :   tmpath      , \n",
    "    'verbose'       :   'log+'       ,\n",
    "    'template_path' :   'poc-turtle',\n",
    "    'linkage_limit' :   1000        }\n",
    "lines = [\n",
    "    [33, 'CDS' , 'LG-English'           ,0,0, 'none'], \n",
    "    [34, 'CDS' , 'LG-English'           ,0,0, 'rules' ], \n",
    "    [35, 'CDS' , 'R=6-W=6:R-MW=+1:R'    ,0,0, 'none'], \n",
    "    [36, 'CDS' , 'R=6-W=6:R-MW=+1:R'    ,0,0, 'rules' ]]\n",
    "cp = rp = module_path + '/data/CDS/LG-E-clean'  # clean: both files, 100% parsed\n",
    "cp = rp  # test corpus path = reference_path"
   ]
  },
  {
   "cell_type": "markdown",
   "metadata": {},
   "source": [
    "# ULL Project Plan ⇒ Parses ⇒ lines 39-42, by columns (K-N), (O-Q)"
   ]
  },
  {
   "cell_type": "markdown",
   "metadata": {},
   "source": [
    "## Connectors-DRK-Connectors"
   ]
  },
  {
   "cell_type": "code",
   "execution_count": 3,
   "metadata": {
    "ExecuteTime": {
     "end_time": "2019-01-03T08:47:40.149891Z",
     "start_time": "2019-01-03T08:40:31.810662Z"
    },
    "scrolled": true
   },
   "outputs": [
    {
     "ename": "FileNotFoundError",
     "evalue": "No directory /home/alex/PycharmProjects/language-learning/data/CDS/LG-English",
     "output_type": "error",
     "traceback": [
      "\u001b[0;31m---------------------------------------------------------------------------\u001b[0m",
      "\u001b[0;31mFileNotFoundError\u001b[0m                         Traceback (most recent call last)",
      "\u001b[0;32m<ipython-input-3-bcac7f3dbd65>\u001b[0m in \u001b[0;36m<module>\u001b[0;34m\u001b[0m\n\u001b[1;32m      4\u001b[0m \u001b[0mkwargs\u001b[0m\u001b[0;34m[\u001b[0m\u001b[0;34m'cluster_range'\u001b[0m\u001b[0;34m]\u001b[0m \u001b[0;34m=\u001b[0m \u001b[0;34m[\u001b[0m\u001b[0;36m30\u001b[0m\u001b[0;34m,\u001b[0m\u001b[0;36m120\u001b[0m\u001b[0;34m,\u001b[0m\u001b[0;36m3\u001b[0m\u001b[0;34m,\u001b[0m\u001b[0;36m3\u001b[0m\u001b[0;34m]\u001b[0m\u001b[0;34m\u001b[0m\u001b[0;34m\u001b[0m\u001b[0m\n\u001b[1;32m      5\u001b[0m \u001b[0mkwargs\u001b[0m\u001b[0;34m[\u001b[0m\u001b[0;34m'grammar_rules'\u001b[0m\u001b[0;34m]\u001b[0m \u001b[0;34m=\u001b[0m \u001b[0;36m1\u001b[0m\u001b[0;34m\u001b[0m\u001b[0;34m\u001b[0m\u001b[0m\n\u001b[0;32m----> 6\u001b[0;31m \u001b[0maverage21\u001b[0m\u001b[0;34m,\u001b[0m \u001b[0mlong21\u001b[0m\u001b[0;34m,\u001b[0m \u001b[0mheader\u001b[0m \u001b[0;34m=\u001b[0m \u001b[0mtable_rows\u001b[0m\u001b[0;34m(\u001b[0m\u001b[0mlines\u001b[0m\u001b[0;34m,\u001b[0m \u001b[0mout_dir\u001b[0m\u001b[0;34m,\u001b[0m \u001b[0mcp\u001b[0m\u001b[0;34m,\u001b[0m \u001b[0mrp\u001b[0m\u001b[0;34m,\u001b[0m \u001b[0mruns\u001b[0m\u001b[0;34m,\u001b[0m \u001b[0;34m**\u001b[0m\u001b[0mkwargs\u001b[0m\u001b[0;34m)\u001b[0m\u001b[0;34m\u001b[0m\u001b[0;34m\u001b[0m\u001b[0m\n\u001b[0m\u001b[1;32m      7\u001b[0m \u001b[0;31m# average21, long21, header, log, rules = wide_rows(lines, out_dir, cp, rp, runs, **kwargs)\u001b[0m\u001b[0;34m\u001b[0m\u001b[0;34m\u001b[0m\u001b[0;34m\u001b[0m\u001b[0m\n\u001b[1;32m      8\u001b[0m \u001b[0mtable\u001b[0m\u001b[0;34m.\u001b[0m\u001b[0mextend\u001b[0m\u001b[0;34m(\u001b[0m\u001b[0maverage21\u001b[0m\u001b[0;34m)\u001b[0m\u001b[0;34m\u001b[0m\u001b[0;34m\u001b[0m\u001b[0m\n",
      "\u001b[0;32m~/PycharmProjects/language-learning/src/grammar_learner/pqa_table.py\u001b[0m in \u001b[0;36mtable_rows\u001b[0;34m(lines, out_dir, cp, rp, runs, **kwargs)\u001b[0m\n\u001b[1;32m    182\u001b[0m         \u001b[0;32mif\u001b[0m \u001b[0;34m'input_parses'\u001b[0m \u001b[0;32min\u001b[0m \u001b[0mkwargs\u001b[0m\u001b[0;34m:\u001b[0m\u001b[0;34m\u001b[0m\u001b[0;34m\u001b[0m\u001b[0m\n\u001b[1;32m    183\u001b[0m             \u001b[0;32mdel\u001b[0m \u001b[0mkwargs\u001b[0m\u001b[0;34m[\u001b[0m\u001b[0;34m'input_parses'\u001b[0m\u001b[0;34m]\u001b[0m\u001b[0;34m\u001b[0m\u001b[0;34m\u001b[0m\u001b[0m\n\u001b[0;32m--> 184\u001b[0;31m         \u001b[0mip\u001b[0m\u001b[0;34m,\u001b[0m \u001b[0moc\u001b[0m\u001b[0;34m,\u001b[0m \u001b[0mog\u001b[0m \u001b[0;34m=\u001b[0m \u001b[0mparams\u001b[0m\u001b[0;34m(\u001b[0m\u001b[0mcorpus\u001b[0m\u001b[0;34m,\u001b[0m \u001b[0mdataset\u001b[0m\u001b[0;34m,\u001b[0m \u001b[0mmodule_path\u001b[0m\u001b[0;34m,\u001b[0m \u001b[0mout_dir\u001b[0m\u001b[0;34m,\u001b[0m \u001b[0;34m**\u001b[0m\u001b[0mkwargs\u001b[0m\u001b[0;34m)\u001b[0m\u001b[0;34m\u001b[0m\u001b[0;34m\u001b[0m\u001b[0m\n\u001b[0m\u001b[1;32m    185\u001b[0m         \u001b[0;31m# ip, oc, og: input path, output categories, output grammar\u001b[0m\u001b[0;34m\u001b[0m\u001b[0;34m\u001b[0m\u001b[0;34m\u001b[0m\u001b[0m\n\u001b[1;32m    186\u001b[0m         \u001b[0mkwargs\u001b[0m\u001b[0;34m[\u001b[0m\u001b[0;34m'input_parses'\u001b[0m\u001b[0;34m]\u001b[0m \u001b[0;34m=\u001b[0m \u001b[0mip\u001b[0m\u001b[0;34m\u001b[0m\u001b[0;34m\u001b[0m\u001b[0m\n",
      "\u001b[0;32m~/PycharmProjects/language-learning/src/grammar_learner/pqa_table.py\u001b[0m in \u001b[0;36mparams\u001b[0;34m(corpus_, dataset_, module_path_, out_dir, **kwargs)\u001b[0m\n\u001b[1;32m     28\u001b[0m     \u001b[0;32melse\u001b[0m\u001b[0;34m:\u001b[0m\u001b[0;34m\u001b[0m\u001b[0;34m\u001b[0m\u001b[0m\n\u001b[1;32m     29\u001b[0m         \u001b[0mclustering\u001b[0m \u001b[0;34m=\u001b[0m \u001b[0mkwargs\u001b[0m\u001b[0;34m[\u001b[0m\u001b[0;34m'clustering'\u001b[0m\u001b[0;34m]\u001b[0m\u001b[0;34m[\u001b[0m\u001b[0;36m0\u001b[0m\u001b[0;34m]\u001b[0m\u001b[0;34m\u001b[0m\u001b[0;34m\u001b[0m\u001b[0m\n\u001b[0;32m---> 30\u001b[0;31m     \u001b[0;32mif\u001b[0m \u001b[0mcheck_dir\u001b[0m\u001b[0;34m(\u001b[0m\u001b[0minput_parses\u001b[0m\u001b[0;34m,\u001b[0m \u001b[0mcreate\u001b[0m\u001b[0;34m=\u001b[0m\u001b[0;32mFalse\u001b[0m\u001b[0;34m,\u001b[0m \u001b[0mverbose\u001b[0m\u001b[0;34m=\u001b[0m\u001b[0;34m'min'\u001b[0m\u001b[0;34m)\u001b[0m\u001b[0;34m:\u001b[0m\u001b[0;34m\u001b[0m\u001b[0;34m\u001b[0m\u001b[0m\n\u001b[0m\u001b[1;32m     31\u001b[0m         \u001b[0mbatch_dir\u001b[0m \u001b[0;34m=\u001b[0m \u001b[0mout_dir\u001b[0m \u001b[0;34m+\u001b[0m \u001b[0;34m'/'\u001b[0m \u001b[0;34m+\u001b[0m \u001b[0mcorpus\u001b[0m\u001b[0;34m\u001b[0m\u001b[0;34m\u001b[0m\u001b[0m\n\u001b[1;32m     32\u001b[0m         \u001b[0mspaces\u001b[0m \u001b[0;34m=\u001b[0m \u001b[0;34m[\u001b[0m\u001b[0;34m'w'\u001b[0m\u001b[0;34m,\u001b[0m \u001b[0;34m'c'\u001b[0m\u001b[0;34m,\u001b[0m \u001b[0;34m'd'\u001b[0m\u001b[0;34m]\u001b[0m  \u001b[0;31m# 'words', 'connectors', 'disjuncts'\u001b[0m\u001b[0;34m\u001b[0m\u001b[0;34m\u001b[0m\u001b[0m\n",
      "\u001b[0;32m~/PycharmProjects/language-learning/src/grammar_learner/read_files.py\u001b[0m in \u001b[0;36mcheck_dir\u001b[0;34m(dir_path, create, verbose)\u001b[0m\n\u001b[1;32m     16\u001b[0m         \u001b[0;31m#     return False\u001b[0m\u001b[0;34m\u001b[0m\u001b[0;34m\u001b[0m\u001b[0;34m\u001b[0m\u001b[0m\n\u001b[1;32m     17\u001b[0m \u001b[0;34m\u001b[0m\u001b[0m\n\u001b[0;32m---> 18\u001b[0;31m         \u001b[0;32mraise\u001b[0m \u001b[0mFileNotFoundError\u001b[0m\u001b[0;34m(\u001b[0m\u001b[0;34mf'No directory {dir_path}'\u001b[0m\u001b[0;34m)\u001b[0m\u001b[0;34m\u001b[0m\u001b[0;34m\u001b[0m\u001b[0m\n\u001b[0m\u001b[1;32m     19\u001b[0m \u001b[0;34m\u001b[0m\u001b[0m\n\u001b[1;32m     20\u001b[0m \u001b[0;34m\u001b[0m\u001b[0m\n",
      "\u001b[0;31mFileNotFoundError\u001b[0m: No directory /home/alex/PycharmProjects/language-learning/data/CDS/LG-English"
     ]
    }
   ],
   "source": [
    "%%capture\n",
    "kwargs['context'] = 1\n",
    "kwargs['word_space'] = 'vectors'\n",
    "kwargs['clustering'] = 'kmeans'\n",
    "kwargs['cluster_range'] = [30,120,3,3]\n",
    "kwargs['grammar_rules'] = 1\n",
    "average21, long21, header = table_rows(lines, out_dir, cp, rp, runs, **kwargs)\n",
    "# average21, long21, header, log, rules = wide_rows(lines, out_dir, cp, rp, runs, **kwargs)\n",
    "table.extend(average21)\n",
    "long_table.extend(long21)"
   ]
  },
  {
   "cell_type": "code",
   "execution_count": 4,
   "metadata": {
    "ExecuteTime": {
     "end_time": "2019-01-03T08:47:40.156746Z",
     "start_time": "2019-01-03T08:47:40.151778Z"
    }
   },
   "outputs": [
    {
     "data": {
      "text/html": [
       "<table><tr><td>Line</td><td>Corpus</td><td>Parsing</td><td>LW</td><td>RW</td><td>Gen.</td><td>Space</td><td>Rules</td><td>Silhouette</td><td>PA</td><td>PQ</td><td>F1</td></tr><tr><td>33</td><td>CDS</td><td>LG-English</td><td> --- </td><td> --- </td><td>none</td><td>cDRKc</td><td>86</td><td>0.17</td><td>99%</td><td>75%</td><td>0.76</td></tr><tr><td>35</td><td>CDS</td><td>R=6-W=6:R-MW=+1:R</td><td> --- </td><td> --- </td><td>none</td><td>cDRKc</td><td>65</td><td>0.13</td><td>89%</td><td>49%</td><td>0.52</td></tr></table>"
      ],
      "text/plain": [
       "<IPython.core.display.HTML object>"
      ]
     },
     "metadata": {},
     "output_type": "display_data"
    }
   ],
   "source": [
    "display(html_table([header] + average21))"
   ]
  },
  {
   "cell_type": "markdown",
   "metadata": {},
   "source": [
    "## Connectors-DRK-Disjuncts"
   ]
  },
  {
   "cell_type": "code",
   "execution_count": 5,
   "metadata": {
    "ExecuteTime": {
     "end_time": "2019-01-03T09:01:39.853725Z",
     "start_time": "2019-01-03T08:47:40.158365Z"
    }
   },
   "outputs": [],
   "source": [
    "%%capture\n",
    "kwargs['context'] = 1\n",
    "kwargs['word_space'] = 'vectors'\n",
    "kwargs['clustering'] = 'kmeans'\n",
    "kwargs['grammar_rules'] = 2\n",
    "average22, long22, header = table_rows(lines, out_dir, cp, rp, runs, **kwargs)\n",
    "# average22, long22, header, log, rules = wide_rows(lines, out_dir, cp, rp, runs, **kwargs)\n",
    "table.extend(average22)\n",
    "long_table.extend(long22)"
   ]
  },
  {
   "cell_type": "code",
   "execution_count": 6,
   "metadata": {
    "ExecuteTime": {
     "end_time": "2019-01-03T09:01:39.859407Z",
     "start_time": "2019-01-03T09:01:39.855463Z"
    },
    "scrolled": true
   },
   "outputs": [
    {
     "data": {
      "text/html": [
       "<table><tr><td>Line</td><td>Corpus</td><td>Parsing</td><td>LW</td><td>RW</td><td>Gen.</td><td>Space</td><td>Rules</td><td>Silhouette</td><td>PA</td><td>PQ</td><td>F1</td></tr><tr><td>33</td><td>CDS</td><td>LG-English</td><td> --- </td><td> --- </td><td>none</td><td>cDRKd</td><td>87</td><td>0.17</td><td>100%</td><td>88%</td><td>0.89</td></tr><tr><td>34</td><td>CDS</td><td>LG-English</td><td> --- </td><td> --- </td><td>rules</td><td>cDRKd</td><td>27</td><td>0.17</td><td>100%</td><td>75%</td><td>0.76</td></tr><tr><td>35</td><td>CDS</td><td>R=6-W=6:R-MW=+1:R</td><td> --- </td><td> --- </td><td>none</td><td>cDRKd</td><td>63</td><td>0.13</td><td>88%</td><td>48%</td><td>0.51</td></tr><tr><td>36</td><td>CDS</td><td>R=6-W=6:R-MW=+1:R</td><td> --- </td><td> --- </td><td>rules</td><td>cDRKd</td><td>74</td><td>0.12</td><td>87%</td><td>48%</td><td>0.51</td></tr></table>"
      ],
      "text/plain": [
       "<IPython.core.display.HTML object>"
      ]
     },
     "metadata": {},
     "output_type": "display_data"
    }
   ],
   "source": [
    "display(html_table([header] + average22))"
   ]
  },
  {
   "cell_type": "markdown",
   "metadata": {},
   "source": [
    "## Disjuncts-DRK-Disjuncts"
   ]
  },
  {
   "cell_type": "code",
   "execution_count": 7,
   "metadata": {
    "ExecuteTime": {
     "end_time": "2019-01-03T09:15:05.297103Z",
     "start_time": "2019-01-03T09:01:39.860985Z"
    }
   },
   "outputs": [],
   "source": [
    "%%capture\n",
    "kwargs['context'] = 2\n",
    "kwargs['word_space'] = 'vectors'\n",
    "kwargs['clustering'] = 'kmeans'\n",
    "kwargs['grammar_rules'] = 2\n",
    "average23, long23, header = table_rows(lines, out_dir, cp, rp, runs, **kwargs)\n",
    "# average23, long23, header, log, rules = wide_rows(lines, out_dir, cp, rp, runs, **kwargs)\n",
    "table.extend(average23)\n",
    "long_table.extend(long23)"
   ]
  },
  {
   "cell_type": "code",
   "execution_count": 8,
   "metadata": {
    "ExecuteTime": {
     "end_time": "2019-01-03T09:15:05.302872Z",
     "start_time": "2019-01-03T09:15:05.299127Z"
    }
   },
   "outputs": [
    {
     "data": {
      "text/html": [
       "<table><tr><td>Line</td><td>Corpus</td><td>Parsing</td><td>LW</td><td>RW</td><td>Gen.</td><td>Space</td><td>Rules</td><td>Silhouette</td><td>PA</td><td>PQ</td><td>F1</td></tr><tr><td>33</td><td>CDS</td><td>LG-English</td><td> --- </td><td> --- </td><td>none</td><td>dDRKd</td><td>70</td><td>0.34</td><td>100%</td><td>89%</td><td>0.90</td></tr><tr><td>34</td><td>CDS</td><td>LG-English</td><td> --- </td><td> --- </td><td>rules</td><td>dDRKd</td><td>30</td><td>0.34</td><td>100%</td><td>75%</td><td>0.76</td></tr><tr><td>35</td><td>CDS</td><td>R=6-W=6:R-MW=+1:R</td><td> --- </td><td> --- </td><td>none</td><td>dDRKd</td><td>88</td><td>0.5</td><td>83%</td><td>48%</td><td>0.51</td></tr><tr><td>36</td><td>CDS</td><td>R=6-W=6:R-MW=+1:R</td><td> --- </td><td> --- </td><td>rules</td><td>dDRKd</td><td>88</td><td>0.5</td><td>87%</td><td>48%</td><td>0.51</td></tr></table>"
      ],
      "text/plain": [
       "<IPython.core.display.HTML object>"
      ]
     },
     "metadata": {},
     "output_type": "display_data"
    }
   ],
   "source": [
    "display(html_table([header] + average23))"
   ]
  },
  {
   "cell_type": "markdown",
   "metadata": {},
   "source": [
    "## Disjuncts-ILE-Disjuncts"
   ]
  },
  {
   "cell_type": "code",
   "execution_count": 9,
   "metadata": {
    "ExecuteTime": {
     "end_time": "2019-01-03T09:45:26.791664Z",
     "start_time": "2019-01-03T09:15:05.304440Z"
    }
   },
   "outputs": [],
   "source": [
    "%%capture\n",
    "kwargs['context'] = 2\n",
    "kwargs['word_space'] = 'discrete'\n",
    "kwargs['clustering'] = 'group'\n",
    "kwargs['grammar_rules'] = 2\n",
    "average24, long24, header = table_rows(lines, out_dir, cp, rp, runs, **kwargs)\n",
    "# average24, long24, header, log, rules = wide_rows(lines, out_dir, cp, rp, runs, **kwargs)\n",
    "table.extend(average24)\n",
    "long_table.extend(long24)"
   ]
  },
  {
   "cell_type": "code",
   "execution_count": 10,
   "metadata": {
    "ExecuteTime": {
     "end_time": "2019-01-03T09:45:26.797129Z",
     "start_time": "2019-01-03T09:45:26.793481Z"
    }
   },
   "outputs": [
    {
     "data": {
      "text/html": [
       "<table><tr><td>Line</td><td>Corpus</td><td>Parsing</td><td>LW</td><td>RW</td><td>Gen.</td><td>Space</td><td>Rules</td><td>Silhouette</td><td>PA</td><td>PQ</td><td>F1</td></tr><tr><td>33</td><td>CDS</td><td>LG-English</td><td> --- </td><td> --- </td><td>none</td><td>dILEd</td><td>2980</td><td> --- </td><td>100%</td><td>98%</td><td>0.98</td></tr><tr><td>34</td><td>CDS</td><td>LG-English</td><td> --- </td><td> --- </td><td>rules</td><td>dILEd</td><td>1820</td><td> --- </td><td>100%</td><td>97%</td><td>0.98</td></tr><tr><td>35</td><td>CDS</td><td>R=6-W=6:R-MW=+1:R</td><td> --- </td><td> --- </td><td>none</td><td>dILEd</td><td>3558</td><td> --- </td><td>69%</td><td>43%</td><td>0.46</td></tr><tr><td>36</td><td>CDS</td><td>R=6-W=6:R-MW=+1:R</td><td> --- </td><td> --- </td><td>rules</td><td>dILEd</td><td>3129</td><td> --- </td><td>72%</td><td>44%</td><td>0.46</td></tr></table>"
      ],
      "text/plain": [
       "<IPython.core.display.HTML object>"
      ]
     },
     "metadata": {},
     "output_type": "display_data"
    }
   ],
   "source": [
    "display(html_table([header] + average24))"
   ]
  },
  {
   "cell_type": "markdown",
   "metadata": {},
   "source": [
    "# Disjuncts-ALE-Disjuncts"
   ]
  },
  {
   "cell_type": "code",
   "execution_count": 11,
   "metadata": {
    "ExecuteTime": {
     "end_time": "2019-01-03T09:45:26.965618Z",
     "start_time": "2019-01-03T09:45:26.798701Z"
    }
   },
   "outputs": [],
   "source": [
    "kwargs['word_space'] = 'sparse'\n",
    "kwargs['min_word_count'] = 1"
   ]
  },
  {
   "cell_type": "markdown",
   "metadata": {},
   "source": [
    "## Linkage/affinity: ward/euclidean;  50/400 clusters"
   ]
  },
  {
   "cell_type": "code",
   "execution_count": 12,
   "metadata": {
    "ExecuteTime": {
     "end_time": "2019-01-03T09:56:59.201044Z",
     "start_time": "2019-01-03T09:45:26.969057Z"
    }
   },
   "outputs": [],
   "source": [
    "%%capture\n",
    "kwargs['clustering'] = ['agglomerative', 'ward']\n",
    "kwargs['cluster_range'] = 50\n",
    "average, long, header = table_rows(lines, out_dir, cp, rp, runs, **kwargs)\n",
    "# average, long, header, log, rules = wide_rows(lines, out_dir, cp, rp, runs, **kwargs)\n",
    "table.extend(average)\n",
    "long_table.extend(long)"
   ]
  },
  {
   "cell_type": "code",
   "execution_count": 13,
   "metadata": {
    "ExecuteTime": {
     "end_time": "2019-01-03T09:56:59.207925Z",
     "start_time": "2019-01-03T09:56:59.203024Z"
    }
   },
   "outputs": [
    {
     "data": {
      "text/html": [
       "<table><tr><td>Line</td><td>Corpus</td><td>Parsing</td><td>LW</td><td>RW</td><td>Gen.</td><td>Space</td><td>Rules</td><td>Silhouette</td><td>PA</td><td>PQ</td><td>F1</td></tr><tr><td>33</td><td>CDS</td><td>LG-English</td><td> --- </td><td> --- </td><td>none</td><td>dALEd</td><td>50</td><td> --- </td><td>100%</td><td>88%</td><td>0.89</td></tr><tr><td>34</td><td>CDS</td><td>LG-English</td><td> --- </td><td> --- </td><td>rules</td><td>dALEd</td><td>13</td><td> --- </td><td>100%</td><td>78%</td><td>0.79</td></tr><tr><td>35</td><td>CDS</td><td>R=6-W=6:R-MW=+1:R</td><td> --- </td><td> --- </td><td>none</td><td>dALEd</td><td>50</td><td> --- </td><td>85%</td><td>47%</td><td>0.50</td></tr><tr><td>36</td><td>CDS</td><td>R=6-W=6:R-MW=+1:R</td><td> --- </td><td> --- </td><td>rules</td><td>dALEd</td><td>49</td><td> --- </td><td>87%</td><td>48%</td><td>0.50</td></tr></table>"
      ],
      "text/plain": [
       "<IPython.core.display.HTML object>"
      ]
     },
     "metadata": {},
     "output_type": "display_data"
    }
   ],
   "source": [
    "display(html_table([header] + average))"
   ]
  },
  {
   "cell_type": "code",
   "execution_count": 14,
   "metadata": {
    "ExecuteTime": {
     "end_time": "2019-01-03T10:09:12.004594Z",
     "start_time": "2019-01-03T09:56:59.211188Z"
    }
   },
   "outputs": [],
   "source": [
    "%%capture\n",
    "kwargs['cluster_range'] = 400\n",
    "average, long, header = table_rows(lines, out_dir, cp, rp, runs, **kwargs)\n",
    "# average, long, header, log, rules = wide_rows(lines, out_dir, cp, rp, runs, **kwargs)\n",
    "table.extend(average)\n",
    "long_table.extend(long)"
   ]
  },
  {
   "cell_type": "code",
   "execution_count": 15,
   "metadata": {
    "ExecuteTime": {
     "end_time": "2019-01-03T10:09:12.009707Z",
     "start_time": "2019-01-03T10:09:12.006292Z"
    }
   },
   "outputs": [
    {
     "data": {
      "text/html": [
       "<table><tr><td>Line</td><td>Corpus</td><td>Parsing</td><td>LW</td><td>RW</td><td>Gen.</td><td>Space</td><td>Rules</td><td>Silhouette</td><td>PA</td><td>PQ</td><td>F1</td></tr><tr><td>33</td><td>CDS</td><td>LG-English</td><td> --- </td><td> --- </td><td>none</td><td>dALEd</td><td>400</td><td> --- </td><td>100%</td><td>98%</td><td>0.98</td></tr><tr><td>34</td><td>CDS</td><td>LG-English</td><td> --- </td><td> --- </td><td>rules</td><td>dALEd</td><td>281</td><td> --- </td><td>100%</td><td>95%</td><td>0.96</td></tr><tr><td>35</td><td>CDS</td><td>R=6-W=6:R-MW=+1:R</td><td> --- </td><td> --- </td><td>none</td><td>dALEd</td><td>400</td><td> --- </td><td>72%</td><td>44%</td><td>0.46</td></tr><tr><td>36</td><td>CDS</td><td>R=6-W=6:R-MW=+1:R</td><td> --- </td><td> --- </td><td>rules</td><td>dALEd</td><td>291</td><td> --- </td><td>81%</td><td>47%</td><td>0.50</td></tr></table>"
      ],
      "text/plain": [
       "<IPython.core.display.HTML object>"
      ]
     },
     "metadata": {},
     "output_type": "display_data"
    }
   ],
   "source": [
    "display(html_table([header] + average))"
   ]
  },
  {
   "cell_type": "markdown",
   "metadata": {},
   "source": [
    "## Linkage/affinity: complete/cosine;  50/400 clusters"
   ]
  },
  {
   "cell_type": "code",
   "execution_count": 16,
   "metadata": {
    "ExecuteTime": {
     "end_time": "2019-01-03T10:20:51.935633Z",
     "start_time": "2019-01-03T10:09:12.011204Z"
    }
   },
   "outputs": [],
   "source": [
    "%%capture\n",
    "kwargs['clustering'] = ['agglomerative', 'complete', 'cosine']\n",
    "kwargs['cluster_range'] = 50\n",
    "average, long, header = table_rows(lines, out_dir, cp, rp, runs, **kwargs)\n",
    "# average, long, header, log, rules = wide_rows(lines, out_dir, cp, rp, runs, **kwargs)\n",
    "table.extend(average)\n",
    "long_table.extend(long)"
   ]
  },
  {
   "cell_type": "code",
   "execution_count": 17,
   "metadata": {
    "ExecuteTime": {
     "end_time": "2019-01-03T10:20:51.941114Z",
     "start_time": "2019-01-03T10:20:51.937458Z"
    }
   },
   "outputs": [
    {
     "data": {
      "text/html": [
       "<table><tr><td>Line</td><td>Corpus</td><td>Parsing</td><td>LW</td><td>RW</td><td>Gen.</td><td>Space</td><td>Rules</td><td>Silhouette</td><td>PA</td><td>PQ</td><td>F1</td></tr><tr><td>33</td><td>CDS</td><td>LG-English</td><td> --- </td><td> --- </td><td>none</td><td>dALEd</td><td>50</td><td> --- </td><td>100%</td><td>75%</td><td>0.76</td></tr><tr><td>34</td><td>CDS</td><td>LG-English</td><td> --- </td><td> --- </td><td>rules</td><td>dALEd</td><td>50</td><td> --- </td><td>100%</td><td>75%</td><td>0.76</td></tr><tr><td>35</td><td>CDS</td><td>R=6-W=6:R-MW=+1:R</td><td> --- </td><td> --- </td><td>none</td><td>dALEd</td><td>50</td><td> --- </td><td>89%</td><td>49%</td><td>0.51</td></tr><tr><td>36</td><td>CDS</td><td>R=6-W=6:R-MW=+1:R</td><td> --- </td><td> --- </td><td>rules</td><td>dALEd</td><td>50</td><td> --- </td><td>89%</td><td>49%</td><td>0.51</td></tr></table>"
      ],
      "text/plain": [
       "<IPython.core.display.HTML object>"
      ]
     },
     "metadata": {},
     "output_type": "display_data"
    }
   ],
   "source": [
    "display(html_table([header] + average))"
   ]
  },
  {
   "cell_type": "code",
   "execution_count": 18,
   "metadata": {
    "ExecuteTime": {
     "end_time": "2019-01-03T10:42:23.667701Z",
     "start_time": "2019-01-03T10:20:51.942661Z"
    }
   },
   "outputs": [],
   "source": [
    "%%capture\n",
    "kwargs['cluster_range'] = 400\n",
    "average, long, header = table_rows(lines, out_dir, cp, rp, runs, **kwargs)\n",
    "# average, long, header, log, rules = wide_rows(lines, out_dir, cp, rp, runs, **kwargs)\n",
    "table.extend(average)\n",
    "long_table.extend(long)"
   ]
  },
  {
   "cell_type": "code",
   "execution_count": 19,
   "metadata": {
    "ExecuteTime": {
     "end_time": "2019-01-03T10:42:23.672606Z",
     "start_time": "2019-01-03T10:42:23.669325Z"
    }
   },
   "outputs": [
    {
     "data": {
      "text/html": [
       "<table><tr><td>Line</td><td>Corpus</td><td>Parsing</td><td>LW</td><td>RW</td><td>Gen.</td><td>Space</td><td>Rules</td><td>Silhouette</td><td>PA</td><td>PQ</td><td>F1</td></tr><tr><td>33</td><td>CDS</td><td>LG-English</td><td> --- </td><td> --- </td><td>none</td><td>dALEd</td><td>400</td><td> --- </td><td>100%</td><td>76%</td><td>0.77</td></tr><tr><td>34</td><td>CDS</td><td>LG-English</td><td> --- </td><td> --- </td><td>rules</td><td>dALEd</td><td>125</td><td> --- </td><td>100%</td><td>75%</td><td>0.76</td></tr><tr><td>35</td><td>CDS</td><td>R=6-W=6:R-MW=+1:R</td><td> --- </td><td> --- </td><td>none</td><td>dALEd</td><td>400</td><td> --- </td><td>89%</td><td>49%</td><td>0.51</td></tr><tr><td>36</td><td>CDS</td><td>R=6-W=6:R-MW=+1:R</td><td> --- </td><td> --- </td><td>rules</td><td>dALEd</td><td>400</td><td> --- </td><td>89%</td><td>49%</td><td>0.51</td></tr></table>"
      ],
      "text/plain": [
       "<IPython.core.display.HTML object>"
      ]
     },
     "metadata": {},
     "output_type": "display_data"
    }
   ],
   "source": [
    "display(html_table([header] + average))"
   ]
  },
  {
   "cell_type": "markdown",
   "metadata": {},
   "source": [
    "## Linkage/affinity: average/cosine;  50/400 clusters"
   ]
  },
  {
   "cell_type": "code",
   "execution_count": 20,
   "metadata": {
    "ExecuteTime": {
     "end_time": "2019-01-03T10:53:28.169716Z",
     "start_time": "2019-01-03T10:42:23.673752Z"
    }
   },
   "outputs": [],
   "source": [
    "%%capture\n",
    "kwargs['cluster_range'] = 50\n",
    "kwargs['clustering'] = ['agglomerative', 'complete', 'cosine']\n",
    "average, long, header = table_rows(lines, out_dir, cp, rp, runs, **kwargs)\n",
    "# average, long, header, log, rules = wide_rows(lines, out_dir, cp, rp, runs, **kwargs)\n",
    "table.extend(average)\n",
    "long_table.extend(long)"
   ]
  },
  {
   "cell_type": "code",
   "execution_count": 21,
   "metadata": {
    "ExecuteTime": {
     "end_time": "2019-01-03T10:53:28.178431Z",
     "start_time": "2019-01-03T10:53:28.173106Z"
    }
   },
   "outputs": [
    {
     "data": {
      "text/html": [
       "<table><tr><td>Line</td><td>Corpus</td><td>Parsing</td><td>LW</td><td>RW</td><td>Gen.</td><td>Space</td><td>Rules</td><td>Silhouette</td><td>PA</td><td>PQ</td><td>F1</td></tr><tr><td>33</td><td>CDS</td><td>LG-English</td><td> --- </td><td> --- </td><td>none</td><td>dALEd</td><td>50</td><td> --- </td><td>100%</td><td>75%</td><td>0.76</td></tr><tr><td>34</td><td>CDS</td><td>LG-English</td><td> --- </td><td> --- </td><td>rules</td><td>dALEd</td><td>50</td><td> --- </td><td>100%</td><td>75%</td><td>0.76</td></tr><tr><td>35</td><td>CDS</td><td>R=6-W=6:R-MW=+1:R</td><td> --- </td><td> --- </td><td>none</td><td>dALEd</td><td>50</td><td> --- </td><td>89%</td><td>49%</td><td>0.51</td></tr><tr><td>36</td><td>CDS</td><td>R=6-W=6:R-MW=+1:R</td><td> --- </td><td> --- </td><td>rules</td><td>dALEd</td><td>50</td><td> --- </td><td>89%</td><td>49%</td><td>0.51</td></tr></table>"
      ],
      "text/plain": [
       "<IPython.core.display.HTML object>"
      ]
     },
     "metadata": {},
     "output_type": "display_data"
    }
   ],
   "source": [
    "display(html_table([header] + average))"
   ]
  },
  {
   "cell_type": "code",
   "execution_count": 22,
   "metadata": {
    "ExecuteTime": {
     "end_time": "2019-01-03T11:14:08.978617Z",
     "start_time": "2019-01-03T10:53:28.180977Z"
    }
   },
   "outputs": [],
   "source": [
    "%%capture\n",
    "kwargs['cluster_range'] = 400\n",
    "average, long, header = table_rows(lines, out_dir, cp, rp, runs, **kwargs)\n",
    "# average, long, header, log, rules = wide_rows(lines, out_dir, cp, rp, runs, **kwargs)\n",
    "table.extend(average)\n",
    "long_table.extend(long)"
   ]
  },
  {
   "cell_type": "code",
   "execution_count": 23,
   "metadata": {
    "ExecuteTime": {
     "end_time": "2019-01-03T11:14:08.988533Z",
     "start_time": "2019-01-03T11:14:08.982415Z"
    }
   },
   "outputs": [
    {
     "data": {
      "text/html": [
       "<table><tr><td>Line</td><td>Corpus</td><td>Parsing</td><td>LW</td><td>RW</td><td>Gen.</td><td>Space</td><td>Rules</td><td>Silhouette</td><td>PA</td><td>PQ</td><td>F1</td></tr><tr><td>33</td><td>CDS</td><td>LG-English</td><td> --- </td><td> --- </td><td>none</td><td>dALEd</td><td>400</td><td> --- </td><td>100%</td><td>76%</td><td>0.77</td></tr><tr><td>34</td><td>CDS</td><td>LG-English</td><td> --- </td><td> --- </td><td>rules</td><td>dALEd</td><td>125</td><td> --- </td><td>100%</td><td>75%</td><td>0.76</td></tr><tr><td>35</td><td>CDS</td><td>R=6-W=6:R-MW=+1:R</td><td> --- </td><td> --- </td><td>none</td><td>dALEd</td><td>400</td><td> --- </td><td>89%</td><td>49%</td><td>0.51</td></tr><tr><td>36</td><td>CDS</td><td>R=6-W=6:R-MW=+1:R</td><td> --- </td><td> --- </td><td>rules</td><td>dALEd</td><td>400</td><td> --- </td><td>89%</td><td>49%</td><td>0.51</td></tr></table>"
      ],
      "text/plain": [
       "<IPython.core.display.HTML object>"
      ]
     },
     "metadata": {},
     "output_type": "display_data"
    }
   ],
   "source": [
    "display(html_table([header] + average))"
   ]
  },
  {
   "cell_type": "markdown",
   "metadata": {},
   "source": [
    "# All tests"
   ]
  },
  {
   "cell_type": "code",
   "execution_count": 24,
   "metadata": {
    "ExecuteTime": {
     "end_time": "2019-01-03T11:14:09.091442Z",
     "start_time": "2019-01-03T11:14:08.991333Z"
    }
   },
   "outputs": [
    {
     "data": {
      "text/html": [
       "<table><tr><td>Line</td><td>Corpus</td><td>Parsing</td><td>LW</td><td>RW</td><td>Gen.</td><td>Space</td><td>Rules</td><td>Silhouette</td><td>PA</td><td>PQ</td><td>F1</td></tr><tr><td>33</td><td>CDS</td><td>LG-English</td><td> --- </td><td> --- </td><td>none</td><td>cDRKc</td><td> 86 </td><td>0.17</td><td>99%</td><td>75%</td><td>0.76</td></tr><tr><td>35</td><td>CDS</td><td>R=6-W=6:R-MW=+1:R</td><td> --- </td><td> --- </td><td>none</td><td>cDRKc</td><td> 65 </td><td>0.13</td><td>89%</td><td>49%</td><td>0.52</td></tr><tr><td>33</td><td>CDS</td><td>LG-English</td><td> --- </td><td> --- </td><td>none</td><td>cDRKd</td><td> 87 </td><td>0.17</td><td>100%</td><td>88%</td><td>0.89</td></tr><tr><td>34</td><td>CDS</td><td>LG-English</td><td> --- </td><td> --- </td><td>rules</td><td>cDRKd</td><td> 27 </td><td>0.17</td><td>100%</td><td>75%</td><td>0.76</td></tr><tr><td>35</td><td>CDS</td><td>R=6-W=6:R-MW=+1:R</td><td> --- </td><td> --- </td><td>none</td><td>cDRKd</td><td> 63 </td><td>0.13</td><td>88%</td><td>48%</td><td>0.51</td></tr><tr><td>36</td><td>CDS</td><td>R=6-W=6:R-MW=+1:R</td><td> --- </td><td> --- </td><td>rules</td><td>cDRKd</td><td> 74 </td><td>0.12</td><td>87%</td><td>48%</td><td>0.51</td></tr><tr><td>33</td><td>CDS</td><td>LG-English</td><td> --- </td><td> --- </td><td>none</td><td>dDRKd</td><td> 70 </td><td>0.34</td><td>100%</td><td>89%</td><td>0.90</td></tr><tr><td>34</td><td>CDS</td><td>LG-English</td><td> --- </td><td> --- </td><td>rules</td><td>dDRKd</td><td> 30 </td><td>0.34</td><td>100%</td><td>75%</td><td>0.76</td></tr><tr><td>35</td><td>CDS</td><td>R=6-W=6:R-MW=+1:R</td><td> --- </td><td> --- </td><td>none</td><td>dDRKd</td><td> 88 </td><td>0.5</td><td>83%</td><td>48%</td><td>0.51</td></tr><tr><td>36</td><td>CDS</td><td>R=6-W=6:R-MW=+1:R</td><td> --- </td><td> --- </td><td>rules</td><td>dDRKd</td><td> 88 </td><td>0.5</td><td>87%</td><td>48%</td><td>0.51</td></tr><tr><td>33</td><td>CDS</td><td>LG-English</td><td> --- </td><td> --- </td><td>none</td><td>dILEd</td><td> 2980 </td><td> --- </td><td>100%</td><td>98%</td><td>0.98</td></tr><tr><td>34</td><td>CDS</td><td>LG-English</td><td> --- </td><td> --- </td><td>rules</td><td>dILEd</td><td> 1820 </td><td> --- </td><td>100%</td><td>97%</td><td>0.98</td></tr><tr><td>35</td><td>CDS</td><td>R=6-W=6:R-MW=+1:R</td><td> --- </td><td> --- </td><td>none</td><td>dILEd</td><td> 3558 </td><td> --- </td><td>69%</td><td>43%</td><td>0.46</td></tr><tr><td>36</td><td>CDS</td><td>R=6-W=6:R-MW=+1:R</td><td> --- </td><td> --- </td><td>rules</td><td>dILEd</td><td> 3129 </td><td> --- </td><td>72%</td><td>44%</td><td>0.46</td></tr><tr><td>33</td><td>CDS</td><td>LG-English</td><td> --- </td><td> --- </td><td>none</td><td>dALEd</td><td> 50 </td><td> --- </td><td>100%</td><td>88%</td><td>0.89</td></tr><tr><td>34</td><td>CDS</td><td>LG-English</td><td> --- </td><td> --- </td><td>rules</td><td>dALEd</td><td> 13 </td><td> --- </td><td>100%</td><td>78%</td><td>0.79</td></tr><tr><td>35</td><td>CDS</td><td>R=6-W=6:R-MW=+1:R</td><td> --- </td><td> --- </td><td>none</td><td>dALEd</td><td> 50 </td><td> --- </td><td>85%</td><td>47%</td><td>0.50</td></tr><tr><td>36</td><td>CDS</td><td>R=6-W=6:R-MW=+1:R</td><td> --- </td><td> --- </td><td>rules</td><td>dALEd</td><td> 49 </td><td> --- </td><td>87%</td><td>48%</td><td>0.50</td></tr><tr><td>33</td><td>CDS</td><td>LG-English</td><td> --- </td><td> --- </td><td>none</td><td>dALEd</td><td> 400 </td><td> --- </td><td>100%</td><td>98%</td><td>0.98</td></tr><tr><td>34</td><td>CDS</td><td>LG-English</td><td> --- </td><td> --- </td><td>rules</td><td>dALEd</td><td> 281 </td><td> --- </td><td>100%</td><td>95%</td><td>0.96</td></tr><tr><td>35</td><td>CDS</td><td>R=6-W=6:R-MW=+1:R</td><td> --- </td><td> --- </td><td>none</td><td>dALEd</td><td> 400 </td><td> --- </td><td>72%</td><td>44%</td><td>0.46</td></tr><tr><td>36</td><td>CDS</td><td>R=6-W=6:R-MW=+1:R</td><td> --- </td><td> --- </td><td>rules</td><td>dALEd</td><td> 291 </td><td> --- </td><td>81%</td><td>47%</td><td>0.50</td></tr><tr><td>33</td><td>CDS</td><td>LG-English</td><td> --- </td><td> --- </td><td>none</td><td>dALEd</td><td> 50 </td><td> --- </td><td>100%</td><td>75%</td><td>0.76</td></tr><tr><td>34</td><td>CDS</td><td>LG-English</td><td> --- </td><td> --- </td><td>rules</td><td>dALEd</td><td> 50 </td><td> --- </td><td>100%</td><td>75%</td><td>0.76</td></tr><tr><td>35</td><td>CDS</td><td>R=6-W=6:R-MW=+1:R</td><td> --- </td><td> --- </td><td>none</td><td>dALEd</td><td> 50 </td><td> --- </td><td>89%</td><td>49%</td><td>0.51</td></tr><tr><td>36</td><td>CDS</td><td>R=6-W=6:R-MW=+1:R</td><td> --- </td><td> --- </td><td>rules</td><td>dALEd</td><td> 50 </td><td> --- </td><td>89%</td><td>49%</td><td>0.51</td></tr><tr><td>33</td><td>CDS</td><td>LG-English</td><td> --- </td><td> --- </td><td>none</td><td>dALEd</td><td> 400 </td><td> --- </td><td>100%</td><td>76%</td><td>0.77</td></tr><tr><td>34</td><td>CDS</td><td>LG-English</td><td> --- </td><td> --- </td><td>rules</td><td>dALEd</td><td> 125 </td><td> --- </td><td>100%</td><td>75%</td><td>0.76</td></tr><tr><td>35</td><td>CDS</td><td>R=6-W=6:R-MW=+1:R</td><td> --- </td><td> --- </td><td>none</td><td>dALEd</td><td> 400 </td><td> --- </td><td>89%</td><td>49%</td><td>0.51</td></tr><tr><td>36</td><td>CDS</td><td>R=6-W=6:R-MW=+1:R</td><td> --- </td><td> --- </td><td>rules</td><td>dALEd</td><td> 400 </td><td> --- </td><td>89%</td><td>49%</td><td>0.51</td></tr><tr><td>33</td><td>CDS</td><td>LG-English</td><td> --- </td><td> --- </td><td>none</td><td>dALEd</td><td> 50 </td><td> --- </td><td>100%</td><td>75%</td><td>0.76</td></tr><tr><td>34</td><td>CDS</td><td>LG-English</td><td> --- </td><td> --- </td><td>rules</td><td>dALEd</td><td> 50 </td><td> --- </td><td>100%</td><td>75%</td><td>0.76</td></tr><tr><td>35</td><td>CDS</td><td>R=6-W=6:R-MW=+1:R</td><td> --- </td><td> --- </td><td>none</td><td>dALEd</td><td> 50 </td><td> --- </td><td>89%</td><td>49%</td><td>0.51</td></tr><tr><td>36</td><td>CDS</td><td>R=6-W=6:R-MW=+1:R</td><td> --- </td><td> --- </td><td>rules</td><td>dALEd</td><td> 50 </td><td> --- </td><td>89%</td><td>49%</td><td>0.51</td></tr><tr><td>33</td><td>CDS</td><td>LG-English</td><td> --- </td><td> --- </td><td>none</td><td>dALEd</td><td> 400 </td><td> --- </td><td>100%</td><td>76%</td><td>0.77</td></tr><tr><td>34</td><td>CDS</td><td>LG-English</td><td> --- </td><td> --- </td><td>rules</td><td>dALEd</td><td> 125 </td><td> --- </td><td>100%</td><td>75%</td><td>0.76</td></tr><tr><td>35</td><td>CDS</td><td>R=6-W=6:R-MW=+1:R</td><td> --- </td><td> --- </td><td>none</td><td>dALEd</td><td> 400 </td><td> --- </td><td>89%</td><td>49%</td><td>0.51</td></tr><tr><td>36</td><td>CDS</td><td>R=6-W=6:R-MW=+1:R</td><td> --- </td><td> --- </td><td>rules</td><td>dALEd</td><td> 400 </td><td> --- </td><td>89%</td><td>49%</td><td>0.51</td></tr></table>"
      ],
      "text/plain": [
       "<IPython.core.display.HTML object>"
      ]
     },
     "metadata": {},
     "output_type": "display_data"
    }
   ],
   "source": [
    "display(html_table([header]+long_table))"
   ]
  },
  {
   "cell_type": "code",
   "execution_count": 25,
   "metadata": {
    "ExecuteTime": {
     "end_time": "2019-01-03T11:14:09.175317Z",
     "start_time": "2019-01-03T11:14:09.094147Z"
    }
   },
   "outputs": [
    {
     "name": "stdout",
     "output_type": "stream",
     "text": [
      "2019-01-03 11:14:09 UTC :: finished, elapsed 2.6 hours\n",
      "Results saved to /home/obaskov/94/language-learning/output/Child-Directed-Speech-2019-01-03/short_table.txt\n"
     ]
    }
   ],
   "source": [
    "print(UTC(), ':: finished, elapsed', str(round((time.time()-start)/3600.0, 1)), 'hours')\n",
    "table_str = list2file(table, out_dir+'/short_table.txt')\n",
    "if runs == (1,1):\n",
    "    print('Results saved to', out_dir + '/short_table.txt')\n",
    "else:\n",
    "    long_table_str = list2file(long_table, out_dir+'/long_table.txt')\n",
    "    print('Average results saved to', out_dir + '/short_table.txt\\n'\n",
    "          'Detailed results for every run saved to', out_dir + '/long_table.txt')"
   ]
  }
 ],
 "metadata": {
  "anaconda-cloud": {},
  "kernelspec": {
   "display_name": "Python 3",
   "language": "python",
   "name": "python3"
  },
  "language_info": {
   "codemirror_mode": {
    "name": "ipython",
    "version": 3
   },
   "file_extension": ".py",
   "mimetype": "text/x-python",
   "name": "python",
   "nbconvert_exporter": "python",
   "pygments_lexer": "ipython3",
   "version": "3.7.4"
  },
  "toc": {
   "base_numbering": 1,
   "nav_menu": {},
   "number_sections": true,
   "sideBar": true,
   "skip_h1_title": false,
   "title_cell": "Table of Contents",
   "title_sidebar": "Contents",
   "toc_cell": false,
   "toc_position": {},
   "toc_section_display": true,
   "toc_window_display": false
  }
 },
 "nbformat": 4,
 "nbformat_minor": 2
}
